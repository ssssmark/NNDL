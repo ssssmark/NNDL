{
 "cells": [
  {
   "cell_type": "markdown",
   "metadata": {},
   "source": [
    "#                                           numpy 练习题"
   ]
  },
  {
   "cell_type": "markdown",
   "metadata": {
    "collapsed": true
   },
   "source": [
    " "
   ]
  },
  {
   "cell_type": "markdown",
   "metadata": {},
   "source": [
    "### numpy 的array操作"
   ]
  },
  {
   "cell_type": "markdown",
   "metadata": {},
   "source": [
    "#### 1.导入numpy库"
   ]
  },
  {
   "cell_type": "code",
   "execution_count": 1,
   "metadata": {
    "collapsed": true,
    "ExecuteTime": {
     "end_time": "2024-03-09T02:56:35.667190800Z",
     "start_time": "2024-03-09T02:56:35.567106800Z"
    }
   },
   "outputs": [],
   "source": [
    "import numpy as np"
   ]
  },
  {
   "cell_type": "markdown",
   "metadata": {},
   "source": [
    "#### 2.建立一个一维数组 a 初始化为[4,5,6], (1)输出a 的类型（type）(2)输出a的各维度的大小（shape）(3)输出 a的第一个元素（值为4）"
   ]
  },
  {
   "cell_type": "code",
   "execution_count": 2,
   "metadata": {
    "collapsed": true,
    "ExecuteTime": {
     "end_time": "2024-03-09T02:56:35.687183800Z",
     "start_time": "2024-03-09T02:56:35.667190800Z"
    }
   },
   "outputs": [
    {
     "data": {
      "text/plain": "(dtype('int32'), (3,))"
     },
     "execution_count": 2,
     "metadata": {},
     "output_type": "execute_result"
    }
   ],
   "source": [
    "a=np.array([4,5,6])\n",
    "a.dtype,a.shape"
   ]
  },
  {
   "cell_type": "markdown",
   "metadata": {},
   "source": [
    "#### 3.建立一个二维数组 b,初始化为 [ [4, 5, 6],[1, 2, 3]] (1)输出各维度的大小（shape）(2)输出 b(0,0)，b(0,1),b(1,1) 这三个元素（对应值分别为4,5,2）"
   ]
  },
  {
   "cell_type": "code",
   "execution_count": 3,
   "metadata": {
    "collapsed": true,
    "ExecuteTime": {
     "end_time": "2024-03-09T02:56:35.767026200Z",
     "start_time": "2024-03-09T02:56:35.687183800Z"
    }
   },
   "outputs": [
    {
     "name": "stdout",
     "output_type": "stream",
     "text": [
      "(2, 3)\n",
      "4 5 2\n"
     ]
    }
   ],
   "source": [
    "b=np.array([[4,5,6],[1,2,3]])\n",
    "print(b.shape)\n",
    "print(b[0][0],b[0][1],b[1][1])"
   ]
  },
  {
   "cell_type": "markdown",
   "metadata": {},
   "source": [
    "#### 4.  (1)建立一个全0矩阵 a, 大小为 3x3; 类型为整型（提示: dtype = int）(2)建立一个全1矩阵b,大小为4x5;  (3)建立一个单位矩阵c ,大小为4x4; (4)生成一个随机数矩阵d,大小为 3x2."
   ]
  },
  {
   "cell_type": "code",
   "execution_count": 4,
   "metadata": {
    "collapsed": true,
    "ExecuteTime": {
     "end_time": "2024-03-09T02:56:35.777197900Z",
     "start_time": "2024-03-09T02:56:35.707340500Z"
    }
   },
   "outputs": [],
   "source": [
    "a=np.zeros((3,3),dtype=int)\n",
    "b=np.ones((4,5))\n",
    "c=np.eye(4)\n",
    "d=np.random.rand(3, 2)"
   ]
  },
  {
   "cell_type": "markdown",
   "metadata": {},
   "source": [
    "#### 5. 建立一个数组 a,(值为[[1, 2, 3, 4], [5, 6, 7, 8], [9, 10, 11, 12]] ) ,(1)打印a; (2)输出  下标为(2,3),(0,0) 这两个数组元素的值"
   ]
  },
  {
   "cell_type": "code",
   "execution_count": 5,
   "metadata": {
    "collapsed": true,
    "ExecuteTime": {
     "end_time": "2024-03-09T02:56:35.777197900Z",
     "start_time": "2024-03-09T02:56:35.726955900Z"
    }
   },
   "outputs": [
    {
     "name": "stdout",
     "output_type": "stream",
     "text": [
      "[[ 1  2  3  4]\n",
      " [ 5  6  7  8]\n",
      " [ 9 10 11 12]]\n",
      "12 1\n"
     ]
    }
   ],
   "source": [
    "a=np.array([[1, 2, 3, 4], [5, 6, 7, 8], [9, 10, 11, 12]])\n",
    "print(a)\n",
    "print(a[2][3],a[0][0])"
   ]
  },
  {
   "cell_type": "markdown",
   "metadata": {},
   "source": [
    "#### 6.把上一题的 a数组的 0到1行 2到3列，放到b里面去，（此处不需要从新建立a,直接调用即可）(1),输出b;(2) 输出b 的（0,0）这个元素的值"
   ]
  },
  {
   "cell_type": "code",
   "execution_count": 6,
   "metadata": {
    "collapsed": true,
    "ExecuteTime": {
     "end_time": "2024-03-09T02:56:35.777197900Z",
     "start_time": "2024-03-09T02:56:35.746951200Z"
    }
   },
   "outputs": [
    {
     "name": "stdout",
     "output_type": "stream",
     "text": [
      "[[1. 1. 1. 1. 1.]\n",
      " [1. 1. 3. 4. 1.]\n",
      " [1. 1. 7. 8. 1.]\n",
      " [1. 1. 1. 1. 1.]]\n"
     ]
    }
   ],
   "source": [
    "b[1:3, 2:4] = a[0:2, 2:4]\n",
    "print(b)"
   ]
  },
  {
   "cell_type": "markdown",
   "metadata": {},
   "source": [
    " #### 7. 把第5题中数组a的最后两行所有元素放到 c中，（提示： a[1:2, :]）(1)输出 c ; (2) 输出 c 中第一行的最后一个元素（提示，使用 -1                 表示最后一个元素）"
   ]
  },
  {
   "cell_type": "code",
   "execution_count": 7,
   "metadata": {
    "collapsed": true,
    "ExecuteTime": {
     "end_time": "2024-03-09T02:57:10.318290500Z",
     "start_time": "2024-03-09T02:57:10.277131600Z"
    }
   },
   "outputs": [
    {
     "data": {
      "text/plain": "8"
     },
     "execution_count": 7,
     "metadata": {},
     "output_type": "execute_result"
    }
   ],
   "source": [
    "c=a[1:2,:]\n",
    "c[0][-1]"
   ]
  },
  {
   "cell_type": "markdown",
   "metadata": {},
   "source": [
    "#### 8.建立数组a,初始化a为[[1, 2], [3, 4], [5, 6]]，输出 （0,0）（1,1）（2,0）这三个元素（提示： 使用 print(a[[0, 1, 2], [0, 1, 0]]) ）"
   ]
  },
  {
   "cell_type": "code",
   "execution_count": 9,
   "metadata": {
    "collapsed": true,
    "ExecuteTime": {
     "end_time": "2024-03-09T02:58:08.737175Z",
     "start_time": "2024-03-09T02:58:08.707172600Z"
    }
   },
   "outputs": [
    {
     "name": "stdout",
     "output_type": "stream",
     "text": [
      "[1 4 5]\n"
     ]
    }
   ],
   "source": [
    "a=np.array([[1,2],[3,4],[5,6]])\n",
    "print(a[[0,1,2],[0,1,0]])"
   ]
  },
  {
   "cell_type": "markdown",
   "metadata": {},
   "source": [
    "#### 9.建立矩阵a ,初始化为[[1, 2, 3], [4, 5, 6], [7, 8, 9], [10, 11, 12]]，输出(0,0),(1,2),(2,0),(3,1) (提示使用 b = np.array([0, 2, 0, 1])                     print(a[np.arange(4), b]))"
   ]
  },
  {
   "cell_type": "code",
   "execution_count": 10,
   "metadata": {
    "collapsed": true,
    "ExecuteTime": {
     "end_time": "2024-03-09T02:59:10.766932400Z",
     "start_time": "2024-03-09T02:59:10.727215100Z"
    }
   },
   "outputs": [
    {
     "name": "stdout",
     "output_type": "stream",
     "text": [
      "[ 1  6  7 11]\n"
     ]
    }
   ],
   "source": [
    "a=np.array([[1, 2, 3], [4, 5, 6], [7, 8, 9], [10, 11, 12]])\n",
    "b=np.array([0,2,0,1])\n",
    "print(a[np.arange(4),b])"
   ]
  },
  {
   "cell_type": "markdown",
   "metadata": {},
   "source": [
    "#### 10.对9 中输出的那四个元素，每个都加上10，然后重新输出矩阵a.(提示： a[np.arange(4), b] += 10 ）"
   ]
  },
  {
   "cell_type": "code",
   "execution_count": 11,
   "metadata": {
    "collapsed": true,
    "ExecuteTime": {
     "end_time": "2024-03-09T02:59:31.997091300Z",
     "start_time": "2024-03-09T02:59:31.977875500Z"
    }
   },
   "outputs": [
    {
     "name": "stdout",
     "output_type": "stream",
     "text": [
      "[[11  2  3]\n",
      " [ 4  5 16]\n",
      " [17  8  9]\n",
      " [10 21 12]]\n"
     ]
    }
   ],
   "source": [
    "a[np.arange(4), b] += 10\n",
    "print(a)"
   ]
  },
  {
   "cell_type": "markdown",
   "metadata": {},
   "source": [
    "### array 的数学运算"
   ]
  },
  {
   "cell_type": "markdown",
   "metadata": {},
   "source": [
    "#### 11.  执行 x = np.array([1, 2])，然后输出 x 的数据类型"
   ]
  },
  {
   "cell_type": "code",
   "execution_count": 12,
   "metadata": {
    "collapsed": true,
    "ExecuteTime": {
     "end_time": "2024-03-09T02:59:54.447138200Z",
     "start_time": "2024-03-09T02:59:54.417113200Z"
    }
   },
   "outputs": [
    {
     "name": "stdout",
     "output_type": "stream",
     "text": [
      "int32\n"
     ]
    }
   ],
   "source": [
    "x=np.array([1,2])\n",
    "print(x.dtype)"
   ]
  },
  {
   "cell_type": "markdown",
   "metadata": {},
   "source": [
    "#### 12.执行 x = np.array([1.0, 2.0]) ，然后输出 x 的数据类类型"
   ]
  },
  {
   "cell_type": "code",
   "execution_count": 13,
   "metadata": {
    "collapsed": true,
    "ExecuteTime": {
     "end_time": "2024-03-09T03:00:08.497470600Z",
     "start_time": "2024-03-09T03:00:08.466950200Z"
    }
   },
   "outputs": [
    {
     "name": "stdout",
     "output_type": "stream",
     "text": [
      "float64\n"
     ]
    }
   ],
   "source": [
    "x=np.array([1.0,2.0])\n",
    "print(x.dtype)"
   ]
  },
  {
   "cell_type": "markdown",
   "metadata": {},
   "source": [
    "#### 13.执行 x = np.array([[1, 2], [3, 4]], dtype=np.float64) ，y = np.array([[5, 6], [7, 8]], dtype=np.float64)，然后输出 x+y ,和 np.add(x,y)"
   ]
  },
  {
   "cell_type": "code",
   "execution_count": 14,
   "metadata": {
    "collapsed": true,
    "ExecuteTime": {
     "end_time": "2024-03-09T03:00:44.117555500Z",
     "start_time": "2024-03-09T03:00:44.084019900Z"
    }
   },
   "outputs": [
    {
     "name": "stdout",
     "output_type": "stream",
     "text": [
      "[[ 6.  8.]\n",
      " [10. 12.]] [[ 6.  8.]\n",
      " [10. 12.]]\n"
     ]
    }
   ],
   "source": [
    "x = np.array([[1, 2], [3, 4]], dtype=np.float64) \n",
    "y = np.array([[5, 6], [7, 8]], dtype=np.float64)\n",
    "print(x+y,np.add(x,y))"
   ]
  },
  {
   "cell_type": "markdown",
   "metadata": {},
   "source": [
    "#### 14. 利用 13题目中的x,y 输出 x-y 和 np.subtract(x,y)"
   ]
  },
  {
   "cell_type": "code",
   "execution_count": 15,
   "metadata": {
    "collapsed": true,
    "ExecuteTime": {
     "end_time": "2024-03-09T03:01:04.371356200Z",
     "start_time": "2024-03-09T03:01:04.307403800Z"
    }
   },
   "outputs": [
    {
     "name": "stdout",
     "output_type": "stream",
     "text": [
      "[[-4. -4.]\n",
      " [-4. -4.]]\n"
     ]
    }
   ],
   "source": [
    "print(np.subtract(x,y))"
   ]
  },
  {
   "cell_type": "markdown",
   "metadata": {},
   "source": [
    "#### 15. 利用13题目中的x，y 输出 x*y ,和 np.multiply(x, y) 还有  np.dot(x,y),比较差异。然后自己换一个不是方阵的试试。"
   ]
  },
  {
   "cell_type": "code",
   "execution_count": 21,
   "metadata": {
    "collapsed": true,
    "ExecuteTime": {
     "end_time": "2024-03-09T03:03:23.897029200Z",
     "start_time": "2024-03-09T03:03:23.867250400Z"
    }
   },
   "outputs": [
    {
     "name": "stdout",
     "output_type": "stream",
     "text": [
      "[[ 5. 12.]\n",
      " [21. 32.]]\n",
      "[[19. 22.]\n",
      " [43. 50.]]\n",
      "[18 31 44]\n"
     ]
    }
   ],
   "source": [
    "print(x*y) # 对应相乘\n",
    "print(np.dot(x,y))\n",
    "\n",
    "# print(a*b)\n",
    "print(np.dot(a.T,b))"
   ]
  },
  {
   "cell_type": "markdown",
   "metadata": {},
   "source": [
    "#### 16. 利用13题目中的x,y,输出 x / y .(提示 ： 使用函数 np.divide())"
   ]
  },
  {
   "cell_type": "code",
   "execution_count": 22,
   "metadata": {
    "ExecuteTime": {
     "end_time": "2024-03-09T03:03:46.937563200Z",
     "start_time": "2024-03-09T03:03:46.877169900Z"
    }
   },
   "outputs": [
    {
     "name": "stdout",
     "output_type": "stream",
     "text": [
      "[[0.2        0.33333333]\n",
      " [0.42857143 0.5       ]]\n"
     ]
    }
   ],
   "source": [
    "print(np.divide(x,y))"
   ]
  },
  {
   "cell_type": "markdown",
   "metadata": {},
   "source": [
    "#### 17. 利用13题目中的x,输出 x的 开方。(提示： 使用函数 np.sqrt() )"
   ]
  },
  {
   "cell_type": "code",
   "execution_count": 23,
   "metadata": {
    "collapsed": true,
    "ExecuteTime": {
     "end_time": "2024-03-09T03:04:04.147808100Z",
     "start_time": "2024-03-09T03:04:04.078311300Z"
    }
   },
   "outputs": [
    {
     "name": "stdout",
     "output_type": "stream",
     "text": [
      "[[1.         1.41421356]\n",
      " [1.73205081 2.        ]]\n"
     ]
    }
   ],
   "source": [
    "print(np.sqrt(x))"
   ]
  },
  {
   "cell_type": "markdown",
   "metadata": {},
   "source": [
    "#### 18.利用13题目中的x,y ,执行 print(x.dot(y)) 和 print(np.dot(x,y))"
   ]
  },
  {
   "cell_type": "code",
   "execution_count": 24,
   "metadata": {
    "collapsed": true,
    "ExecuteTime": {
     "end_time": "2024-03-09T03:04:16.778052700Z",
     "start_time": "2024-03-09T03:04:16.747298200Z"
    }
   },
   "outputs": [
    {
     "name": "stdout",
     "output_type": "stream",
     "text": [
      "[[19. 22.]\n",
      " [43. 50.]]\n",
      "[[19. 22.]\n",
      " [43. 50.]]\n"
     ]
    }
   ],
   "source": [
    "print(x.dot(y)) \n",
    "print(np.dot(x,y))"
   ]
  },
  {
   "cell_type": "markdown",
   "metadata": {},
   "source": [
    "##### 19.利用13题目中的 x,进行求和。提示：输出三种求和 (1)print(np.sum(x)):   (2)print(np.sum(x，axis =0 ));   (3)print(np.sum(x,axis = 1))"
   ]
  },
  {
   "cell_type": "code",
   "execution_count": 25,
   "metadata": {
    "collapsed": true,
    "ExecuteTime": {
     "end_time": "2024-03-09T03:04:39.728540600Z",
     "start_time": "2024-03-09T03:04:39.697292500Z"
    }
   },
   "outputs": [
    {
     "name": "stdout",
     "output_type": "stream",
     "text": [
      "10.0\n",
      "[4. 6.]\n",
      "[3. 7.]\n"
     ]
    }
   ],
   "source": [
    "print(np.sum(x))\n",
    "print(np.sum(x,axis =0 ))\n",
    "print(np.sum(x,axis = 1))"
   ]
  },
  {
   "cell_type": "markdown",
   "metadata": {},
   "source": [
    "#### 20.利用13题目中的 x,进行求平均数（提示：输出三种平均数(1)print(np.mean(x)) (2)print(np.mean(x,axis = 0))(3) print(np.mean(x,axis =1))）"
   ]
  },
  {
   "cell_type": "code",
   "execution_count": 26,
   "metadata": {
    "collapsed": true,
    "ExecuteTime": {
     "end_time": "2024-03-09T03:05:19.667436500Z",
     "start_time": "2024-03-09T03:05:19.607176800Z"
    }
   },
   "outputs": [
    {
     "name": "stdout",
     "output_type": "stream",
     "text": [
      "2.5\n",
      "[2. 3.]\n",
      "[1.5 3.5]\n"
     ]
    }
   ],
   "source": [
    "print(np.mean(x))\n",
    "print(np.mean(x,axis = 0))\n",
    "print(np.mean(x,axis =1))"
   ]
  },
  {
   "cell_type": "markdown",
   "metadata": {},
   "source": [
    "#### 21.利用13题目中的x，对x 进行矩阵转置，然后输出转置后的结果，（提示： x.T 表示对 x 的转置）"
   ]
  },
  {
   "cell_type": "code",
   "execution_count": 27,
   "metadata": {
    "collapsed": true,
    "ExecuteTime": {
     "end_time": "2024-03-09T03:05:28.257195700Z",
     "start_time": "2024-03-09T03:05:28.237132700Z"
    }
   },
   "outputs": [
    {
     "name": "stdout",
     "output_type": "stream",
     "text": [
      "[[1. 3.]\n",
      " [2. 4.]]\n"
     ]
    }
   ],
   "source": [
    "print(x.T)"
   ]
  },
  {
   "cell_type": "markdown",
   "metadata": {
    "collapsed": true
   },
   "source": [
    "#### 22.利用13题目中的x,求e的指数（提示： 函数 np.exp()）"
   ]
  },
  {
   "cell_type": "code",
   "execution_count": 28,
   "metadata": {
    "collapsed": true,
    "ExecuteTime": {
     "end_time": "2024-03-09T03:05:38.427380Z",
     "start_time": "2024-03-09T03:05:38.397455500Z"
    }
   },
   "outputs": [
    {
     "name": "stdout",
     "output_type": "stream",
     "text": [
      "[[ 2.71828183  7.3890561 ]\n",
      " [20.08553692 54.59815003]]\n"
     ]
    }
   ],
   "source": [
    "print(np.exp(x))"
   ]
  },
  {
   "cell_type": "markdown",
   "metadata": {},
   "source": [
    "#### 23.利用13题目中的 x,求值最大的下标（提示(1)print(np.argmax(x)) ,(2) print(np.argmax(x, axis =0))(3)print(np.argmax(x),axis =1))"
   ]
  },
  {
   "cell_type": "code",
   "execution_count": 30,
   "metadata": {
    "ExecuteTime": {
     "end_time": "2024-03-09T03:06:23.457330600Z",
     "start_time": "2024-03-09T03:06:23.437127300Z"
    }
   },
   "outputs": [
    {
     "name": "stdout",
     "output_type": "stream",
     "text": [
      "3\n",
      "[1 1]\n",
      "[1 1]\n"
     ]
    }
   ],
   "source": [
    "print(np.argmax(x)) \n",
    "print(np.argmax(x, axis =0))\n",
    "print(np.argmax(x,axis =1))"
   ]
  },
  {
   "cell_type": "markdown",
   "metadata": {},
   "source": [
    "#### 24,画图，y=x*x 其中 x = np.arange(0, 100, 0.1) （提示这里用到  matplotlib.pyplot 库）"
   ]
  },
  {
   "cell_type": "code",
   "execution_count": 31,
   "metadata": {
    "collapsed": true,
    "ExecuteTime": {
     "end_time": "2024-03-09T03:08:52.710791800Z",
     "start_time": "2024-03-09T03:08:52.015185200Z"
    }
   },
   "outputs": [
    {
     "data": {
      "text/plain": "<Figure size 640x480 with 1 Axes>",
      "image/png": "[encoded data removed]"
     },
     "metadata": {},
     "output_type": "display_data"
    }
   ],
   "source": [
    "import  matplotlib.pyplot as plt\n",
    "x=np.arange(0,100,0.1)\n",
    "y=x*x\n",
    "plt.plot(x,y)\n",
    "plt.show()"
   ]
  },
  {
   "cell_type": "markdown",
   "metadata": {},
   "source": [
    "#### 25.画图。画正弦函数和余弦函数， x = np.arange(0, 3 * np.pi, 0.1)(提示：这里用到 np.sin() np.cos() 函数和 matplotlib.pyplot 库)"
   ]
  },
  {
   "cell_type": "code",
   "execution_count": 33,
   "metadata": {
    "collapsed": true,
    "ExecuteTime": {
     "end_time": "2024-03-09T03:11:02.332929800Z",
     "start_time": "2024-03-09T03:11:02.210152600Z"
    }
   },
   "outputs": [
    {
     "data": {
      "text/plain": "<Figure size 640x480 with 1 Axes>",
      "image/png": "[encoded data removed]"
     },
     "metadata": {},
     "output_type": "display_data"
    }
   ],
   "source": [
    "x = np.arange(0, 3 * np.pi, 0.1)\n",
    "y1=np.sin(x)\n",
    "y2=np.cos(x)\n",
    "plt.plot(x,y1,x,y2)\n",
    "plt.show()"
   ]
  },
  {
   "cell_type": "code",
   "execution_count": 44,
   "outputs": [
    {
     "data": {
      "text/plain": "<Figure size 1000x600 with 1 Axes>",
      "image/png": "[encoded data removed]"
     },
     "metadata": {},
     "output_type": "display_data"
    }
   ],
   "source": [
    "import matplotlib.pyplot as plt\n",
    "import numpy as np\n",
    "labels = 'Random', 'DDQN', 'D3QN', 'Bagging_D3QN','Bagging_Noisy_D3QN'\n",
    "Random = [20.139705742654073,20.419923680564818,20.24090269718885,20.311337527525023,20.241492688181662,20.173462241629036,21.241350650578013,19.976177108917476,20.45561801173749,20.292732848232838,21.72099766792529,21.576243838733898,21.598795783732548,21.682523784234565,21.704890735173198,21.59864719648924,21.49461931119903,21.447241266672936,21.64503299489422,21.708271385320653]\n",
    "DDQN = [19.30861163,\n",
    "        18.21745133,\n",
    "        17.45742276,\n",
    "        17.402598,\n",
    "        17.25597179,\n",
    "        15.93936731,\n",
    "        16.31655388,\n",
    "        18.16364282,\n",
    "        17.46336303,\n",
    "        18.1145964,\n",
    "        17.79704736,\n",
    "        18.31856692,\n",
    "        18.37111042,\n",
    "        17.5878871,\n",
    "        19.40810145,\n",
    "        18.65853177,\n",
    "        18.12001515,\n",
    "        17.36419551,\n",
    "        19.90436983,\n",
    "        17.93694692,\n",
    "        17.77328161,\n",
    "        18.37087961,\n",
    "        18.0250709,\n",
    "        17.5641449,\n",
    "        19.10880256,\n",
    "        18.9906178,\n",
    "        18.25899692,\n",
    "        17.67150293,\n",
    "        18.39207007,\n",
    "        18.54697161,\n",
    "        17.99302509,\n",
    "        18.86370229,\n",
    "        18.69051117,\n",
    "        17.59372309,\n",
    "        19.85674029,\n",
    "        19.26134668,\n",
    "        19.13416086,\n",
    "        18.68835318,\n",
    "        17.90193364,\n",
    "        17.71912534,\n",
    "        ]\n",
    "D3QN= [19.45470648,\n",
    "     18.11484652,\n",
    "     15.26954825,\n",
    "     13.22017184,\n",
    "     11.99112414,\n",
    "     12.82763068,\n",
    "     10.84840132,\n",
    "     10.61503058,\n",
    "     13.44452609,\n",
    "     10.24117048,\n",
    "     11.88393378,\n",
    "     14.02842084,\n",
    "     11.4178005,\n",
    "     10.07620311,\n",
    "     12.15012885,\n",
    "     11.674686789634922,\n",
    "     13.364100418179937,\n",
    "     13.54627821125315,\n",
    "     12.947179975628963,\n",
    "     12.566735114204285,\n",
    "     13.222670974450116,\n",
    "     12.891827690296047,\n",
    "     15.534169571225963,\n",
    "     11.847560789559887,\n",
    "     10.623476129457888,\n",
    "     13.073445526413625,\n",
    "     14.263350542969643,\n",
    "     12.466772588741742,\n",
    "     11.35055010719425,\n",
    "     13.709688855688594,\n",
    "     12.389308350599155,\n",
    "     10.985018790123863,\n",
    "     10.97017418561044,\n",
    "     13.205997271677719,\n",
    "     12.153319560193392,\n",
    "     15.787705302464522,\n",
    "       13.03822202,\n",
    "       11.905235,\n",
    "       14.4562252,\n",
    "       16.38856933,\n",
    "       12.41348617,\n",
    "       13.16834736,\n",
    "       13.27089158,\n",
    "       13.80466178,\n",
    "       19.95671956,\n",
    "       15.41503936,\n",
    "       17.52969798,\n",
    "       15.54065163,\n",
    "       15.08885669,\n",
    "       19.89589713,\n",
    "       18.17956068,\n",
    "       14.27835731,\n",
    "       12.84620659,\n",
    "       14.70567335,\n",
    "       12.23769374,\n",
    "       17.65008382,\n",
    "       19.36586966,\n",
    "       19.5502106,\n",
    "       10.30466952,\n",
    "       19.1742157,\n",
    "       14.50020242,\n",
    "       15.66710643      ]\n",
    "Bagging_D3QN = [11.88010701,\n",
    "                9.06968211,\n",
    "                12.27967481,\n",
    "                13.93401304,\n",
    "                10.11389179,\n",
    "                14.82838234,\n",
    "                11.10016454,\n",
    "                10.41736967,\n",
    "                10.44440756,\n",
    "                12.03442726,\n",
    "                10.03556695,\n",
    "                11.75201651,\n",
    "                11.57608002,\n",
    "                14.57251894,\n",
    "                15.2067478,\n",
    "                14.73253549,\n",
    "                11.49485521,\n",
    "                10.36365499,\n",
    "                9.73019145,\n",
    "                14.12019565,\n",
    "                13.82453386,\n",
    "                13.27822107,\n",
    "                12.71825874,\n",
    "                10.16735652,\n",
    "                10.28499873,\n",
    "                14.55327403,\n",
    "                11.49368235,\n",
    "                12.52153352,\n",
    "                10.90183383,\n",
    "                9.897540899,\n",
    "                11.34109725,\n",
    "                10.60156533,\n",
    "                9.278738935,\n",
    "                9.968084818,\n",
    "                9.195486133,\n",
    "                9.383494553,\n",
    "                9.862954766,\n",
    "                9.763740433,\n",
    "                10.38429011,\n",
    "                ] \n",
    "Bagging_noise_D3QN=[\n",
    "    10.22478825,\n",
    "    7.899926918,\n",
    "    7.903829092,\n",
    "    7.51764044,\n",
    "    8.674426215,\n",
    "    9.11322975,\n",
    "    9.692236745,\n",
    "    9.498544084,\n",
    "    10.57079906,\n",
    "    10.67856665,\n",
    "    10.88878116,\n",
    "    12.33617149,\n",
    "    12.00864389,\n",
    "    11.06552731,\n",
    "    11.02720109,\n",
    "    10.6163451,\n",
    "    10.94367032,\n",
    "    10.27722949,\n",
    "    10.73947395,\n",
    "    9.490470998,\n",
    "    8.742413116,\n",
    "    9.661663683,\n",
    "    8.682467738,\n",
    "    8.759392776,\n",
    "    8.61679943,\n",
    "    9.20310309,\n",
    "    8.828323447,\n",
    "    8.2414515,\n",
    "    8.500680638,\n",
    "    8.448949199,\n",
    "    8.039078205,\n",
    "    9.106323755,\n",
    "    7.701774318,\n",
    "    8.488811659,\n",
    "    7.949733847,\n",
    "    8.895021206,\n",
    "    10.59428797,\n",
    "    14.59567979,\n",
    "    10.18134573,\n",
    "    8.379471107,\n",
    "    8.918150051,\n",
    "    7.888045134,\n",
    "    8.259495574,\n",
    "    8.105562065,\n",
    "    8.58014709,\n",
    "    6.737640889,\n",
    "    6.540895484,\n",
    "    8.497249469,\n",
    "    8.424082962,\n",
    "    9.67402839,\n",
    "    9.129989713,\n",
    "    8.164848056,\n",
    "    9.314475899,\n",
    "    8.594714318,\n",
    "    10.01128908,\n",
    "    10.23969529,\n",
    "    8.514869363,\n",
    "    7.513366655,\n",
    "    9.177750844,\n",
    "    9.096259515,\n",
    "]\n",
    "fig = plt.figure(figsize=(10, 6))  # Adjust the figure size as needed\n",
    "ax1 = fig.add_subplot(111)\n",
    "bp=ax1.boxplot([Random, DDQN, D3QN, Bagging_D3QN,Bagging_noise_D3QN],\n",
    "            medianprops={'color': 'red', 'linewidth': '2'},\n",
    "            meanline=True,\n",
    "            showmeans=True,\n",
    "            meanprops={'color': 'blue', 'ls': '--', 'linewidth': '1.5'},\n",
    "            flierprops={\"marker\": \"o\", \"markerfacecolor\": \"red\", \"markersize\": 7},\n",
    "            labels=labels)\n",
    "\n",
    "ax1.set_yticks(np.arange(5, 25, 1))\n",
    "ax1.set_ylabel('Response Time')\n",
    "\n",
    "# Creating custom legend entries\n",
    "legend_labels = ['1: Random', '2: DDQN', '3: D3QN', '4: Bagging_D3QN', '5: Bagging_Noisy_D3QN']\n",
    "handles = [plt.Line2D([], [], color='none', marker='None', label=label) for label in legend_labels]\n",
    "plt.show()"
   ],
   "metadata": {
    "collapsed": false,
    "ExecuteTime": {
     "end_time": "2024-03-09T09:50:38.468459500Z",
     "start_time": "2024-03-09T09:50:38.304455100Z"
    }
   }
  }
 ],
 "metadata": {
  "anaconda-cloud": {},
  "kernelspec": {
   "display_name": "Python 3",
   "language": "python",
   "name": "python3"
  },
  "language_info": {
   "codemirror_mode": {
    "name": "ipython",
    "version": 3
   },
   "file_extension": ".py",
   "mimetype": "text/x-python",
   "name": "python",
   "nbconvert_exporter": "python",
   "pygments_lexer": "ipython3",
   "version": "3.7.0"
  }
 },
 "nbformat": 4,
 "nbformat_minor": 1
}
