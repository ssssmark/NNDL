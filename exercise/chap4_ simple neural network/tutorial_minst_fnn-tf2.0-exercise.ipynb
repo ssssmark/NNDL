{
 "cells": [
  {
   "cell_type": "markdown",
   "metadata": {},
   "source": [
    "## 准备数据"
   ]
  },
  {
   "cell_type": "code",
   "execution_count": 1,
   "metadata": {
    "ExecuteTime": {
     "end_time": "2024-03-11T12:12:44.703883800Z",
     "start_time": "2024-03-11T12:12:40.897717600Z"
    }
   },
   "outputs": [],
   "source": [
    "import os\n",
    "import numpy as np\n",
    "import tensorflow as tf\n",
    "from tensorflow import keras\n",
    "from tensorflow.keras import layers, optimizers, datasets\n",
    "\n",
    "os.environ['TF_CPP_MIN_LOG_LEVEL'] = '2'  # or any {'0', '1', '2'}\n",
    "\n",
    "def mnist_dataset():\n",
    "    (x, y), (x_test, y_test) = datasets.mnist.load_data()\n",
    "    #normalize\n",
    "    x = x/255.0\n",
    "    x_test = x_test/255.0\n",
    "    \n",
    "    return (x, y), (x_test, y_test)"
   ]
  },
  {
   "cell_type": "code",
   "execution_count": 2,
   "metadata": {
    "ExecuteTime": {
     "end_time": "2024-03-11T12:12:44.718844400Z",
     "start_time": "2024-03-11T12:12:44.706875600Z"
    }
   },
   "outputs": [
    {
     "name": "stdout",
     "output_type": "stream",
     "text": [
      "[(1, 'a'), (2, 'b'), (3, 'c'), (4, 'd')]\n"
     ]
    }
   ],
   "source": [
    "print(list(zip([1, 2, 3, 4], ['a', 'b', 'c', 'd'])))"
   ]
  },
  {
   "cell_type": "markdown",
   "metadata": {},
   "source": [
    "## 建立模型"
   ]
  },
  {
   "cell_type": "code",
   "execution_count": 18,
   "metadata": {
    "ExecuteTime": {
     "end_time": "2024-03-11T12:26:23.756746900Z",
     "start_time": "2024-03-11T12:26:23.738794300Z"
    }
   },
   "outputs": [],
   "source": [
    "class myModel:\n",
    "    def __init__(self):\n",
    "        ####################\n",
    "        '''声明模型对应的参数'''\n",
    "        self.W1 = tf.Variable(shape=[28*28, 100], dtype=tf.float32,\n",
    "                              initial_value=tf.random.uniform(shape=[28*28, 100],\n",
    "                                                              minval=-0.1, maxval=0.1))\n",
    "        self.b1 = tf.Variable(shape=[100], dtype=tf.float32, initial_value=tf.zeros(100))\n",
    "        self.W2 = tf.Variable(shape=[100, 10], dtype=tf.float32,\n",
    "                              initial_value=tf.random.uniform(shape=[100, 10],\n",
    "                                                              minval=-0.1, maxval=0.1))\n",
    "        self.b2 = tf.Variable(shape=[10], dtype=tf.float32, initial_value=tf.zeros(10))\n",
    "        self.trainable_variables = [self.W1, self.W2, self.b1, self.b2]\n",
    "        ####################\n",
    "    def __call__(self, x):\n",
    "        ####################\n",
    "        '''实现模型函数体，返回未归一化的logits'''\n",
    "        ####################\n",
    "        x=tf.reshape(x,shape=[-1,28*28])\n",
    "        h1 = tf.tanh(tf.matmul(x, self.W1) + self.b1)\n",
    "        logits = tf.matmul(h1, self.W2) + self.b2\n",
    "        return logits\n",
    "        \n",
    "model = myModel()\n",
    "\n",
    "optimizer = optimizers.Adam()"
   ]
  },
  {
   "cell_type": "markdown",
   "metadata": {},
   "source": [
    "## 计算 loss"
   ]
  },
  {
   "cell_type": "code",
   "execution_count": 10,
   "metadata": {
    "ExecuteTime": {
     "end_time": "2024-03-11T12:21:44.382792Z",
     "start_time": "2024-03-11T12:21:44.360856Z"
    }
   },
   "outputs": [],
   "source": [
    "@tf.function\n",
    "def compute_loss(logits, labels):\n",
    "    return tf.reduce_mean(\n",
    "        tf.nn.sparse_softmax_cross_entropy_with_logits(\n",
    "            logits=logits, labels=labels))\n",
    "\n",
    "@tf.function\n",
    "def compute_accuracy(logits, labels):\n",
    "    predictions = tf.argmax(logits, axis=1)\n",
    "    return tf.reduce_mean(tf.cast(tf.equal(predictions, labels), tf.float32))\n",
    "\n",
    "@tf.function\n",
    "def train_one_step(model, optimizer, x, y):\n",
    "    with tf.GradientTape() as tape:\n",
    "        logits = model(x)\n",
    "        loss = compute_loss(logits, y)\n",
    "\n",
    "    # compute gradient\n",
    "    trainable_vars = [model.W1, model.W2, model.b1, model.b2]\n",
    "    grads = tape.gradient(loss, trainable_vars)\n",
    "    for g, v in zip(grads, trainable_vars):\n",
    "        v.assign_sub(0.01*g)\n",
    "\n",
    "    accuracy = compute_accuracy(logits, y)\n",
    "\n",
    "    # loss and accuracy is scalar tensor\n",
    "    return loss, accuracy\n",
    "\n",
    "@tf.function\n",
    "def test(model, x, y):\n",
    "    logits = model(x)\n",
    "    loss = compute_loss(logits, y)\n",
    "    accuracy = compute_accuracy(logits, y)\n",
    "    return loss, accuracy"
   ]
  },
  {
   "cell_type": "markdown",
   "metadata": {},
   "source": [
    "## 实际训练"
   ]
  },
  {
   "cell_type": "code",
   "execution_count": 21,
   "metadata": {
    "ExecuteTime": {
     "end_time": "2024-03-11T12:27:46.079926500Z",
     "start_time": "2024-03-11T12:27:24.477766800Z"
    }
   },
   "outputs": [
    {
     "name": "stdout",
     "output_type": "stream",
     "text": [
      "epoch 0 : loss 1.9044805 ; accuracy 0.59078336\n",
      "epoch 1 : loss 1.90055 ; accuracy 0.5929\n",
      "epoch 2 : loss 1.8966235 ; accuracy 0.59491664\n",
      "epoch 3 : loss 1.8927007 ; accuracy 0.59756666\n",
      "epoch 4 : loss 1.8887818 ; accuracy 0.5995167\n",
      "epoch 5 : loss 1.884867 ; accuracy 0.60146666\n",
      "epoch 6 : loss 1.8809558 ; accuracy 0.60361665\n",
      "epoch 7 : loss 1.8770489 ; accuracy 0.60538334\n",
      "epoch 8 : loss 1.8731458 ; accuracy 0.6076\n",
      "epoch 9 : loss 1.8692468 ; accuracy 0.6094667\n",
      "epoch 10 : loss 1.8653518 ; accuracy 0.61116666\n",
      "epoch 11 : loss 1.8614609 ; accuracy 0.61293334\n",
      "epoch 12 : loss 1.8575742 ; accuracy 0.61443335\n",
      "epoch 13 : loss 1.8536919 ; accuracy 0.61611664\n",
      "epoch 14 : loss 1.8498138 ; accuracy 0.6178167\n",
      "epoch 15 : loss 1.8459399 ; accuracy 0.61965\n",
      "epoch 16 : loss 1.8420701 ; accuracy 0.62121665\n",
      "epoch 17 : loss 1.8382051 ; accuracy 0.62285\n",
      "epoch 18 : loss 1.8343443 ; accuracy 0.62436664\n",
      "epoch 19 : loss 1.8304877 ; accuracy 0.6260333\n",
      "epoch 20 : loss 1.826636 ; accuracy 0.62771666\n",
      "epoch 21 : loss 1.8227888 ; accuracy 0.62946665\n",
      "epoch 22 : loss 1.8189461 ; accuracy 0.63063335\n",
      "epoch 23 : loss 1.8151081 ; accuracy 0.6319\n",
      "epoch 24 : loss 1.811275 ; accuracy 0.63315\n",
      "epoch 25 : loss 1.8074465 ; accuracy 0.63453335\n",
      "epoch 26 : loss 1.803623 ; accuracy 0.6358\n",
      "epoch 27 : loss 1.7998042 ; accuracy 0.63715\n",
      "epoch 28 : loss 1.7959905 ; accuracy 0.63841665\n",
      "epoch 29 : loss 1.7921817 ; accuracy 0.63975\n",
      "epoch 30 : loss 1.7883781 ; accuracy 0.64085\n",
      "epoch 31 : loss 1.7845796 ; accuracy 0.6422167\n",
      "epoch 32 : loss 1.7807862 ; accuracy 0.64335\n",
      "epoch 33 : loss 1.7769982 ; accuracy 0.64458334\n",
      "epoch 34 : loss 1.7732154 ; accuracy 0.6458667\n",
      "epoch 35 : loss 1.769438 ; accuracy 0.64695\n",
      "epoch 36 : loss 1.765666 ; accuracy 0.64786667\n",
      "epoch 37 : loss 1.7618997 ; accuracy 0.64905\n",
      "epoch 38 : loss 1.7581388 ; accuracy 0.64995\n",
      "epoch 39 : loss 1.7543836 ; accuracy 0.65098333\n",
      "epoch 40 : loss 1.7506338 ; accuracy 0.6520333\n",
      "epoch 41 : loss 1.7468901 ; accuracy 0.6534167\n",
      "epoch 42 : loss 1.7431521 ; accuracy 0.65438336\n",
      "epoch 43 : loss 1.73942 ; accuracy 0.65545\n",
      "epoch 44 : loss 1.7356937 ; accuracy 0.65635\n",
      "epoch 45 : loss 1.7319736 ; accuracy 0.6572\n",
      "epoch 46 : loss 1.7282597 ; accuracy 0.6581333\n",
      "epoch 47 : loss 1.7245518 ; accuracy 0.65928334\n",
      "epoch 48 : loss 1.72085 ; accuracy 0.66055\n",
      "epoch 49 : loss 1.7171547 ; accuracy 0.66146666\n",
      "epoch 50 : loss 1.7134656 ; accuracy 0.66255\n",
      "epoch 51 : loss 1.7097831 ; accuracy 0.66358334\n",
      "epoch 52 : loss 1.7061068 ; accuracy 0.6645833\n",
      "epoch 53 : loss 1.7024373 ; accuracy 0.66543335\n",
      "epoch 54 : loss 1.6987742 ; accuracy 0.66643333\n",
      "epoch 55 : loss 1.6951178 ; accuracy 0.66711664\n",
      "epoch 56 : loss 1.6914682 ; accuracy 0.6678333\n",
      "epoch 57 : loss 1.6878256 ; accuracy 0.66855\n",
      "epoch 58 : loss 1.6841896 ; accuracy 0.6693\n",
      "epoch 59 : loss 1.6805607 ; accuracy 0.67005\n",
      "epoch 60 : loss 1.6769387 ; accuracy 0.6706833\n",
      "epoch 61 : loss 1.6733235 ; accuracy 0.67123336\n",
      "epoch 62 : loss 1.6697159 ; accuracy 0.67221665\n",
      "epoch 63 : loss 1.6661153 ; accuracy 0.67286664\n",
      "epoch 64 : loss 1.662522 ; accuracy 0.67356664\n",
      "epoch 65 : loss 1.6589359 ; accuracy 0.67431664\n",
      "epoch 66 : loss 1.6553572 ; accuracy 0.675\n",
      "epoch 67 : loss 1.651786 ; accuracy 0.67588335\n",
      "epoch 68 : loss 1.6482224 ; accuracy 0.67661667\n",
      "epoch 69 : loss 1.6446662 ; accuracy 0.67721665\n",
      "epoch 70 : loss 1.6411176 ; accuracy 0.6779\n",
      "epoch 71 : loss 1.6375768 ; accuracy 0.67866665\n",
      "epoch 72 : loss 1.6340435 ; accuracy 0.67935\n",
      "epoch 73 : loss 1.6305184 ; accuracy 0.68005\n",
      "epoch 74 : loss 1.6270008 ; accuracy 0.68081665\n",
      "epoch 75 : loss 1.6234914 ; accuracy 0.68151665\n",
      "epoch 76 : loss 1.6199899 ; accuracy 0.68226665\n",
      "epoch 77 : loss 1.6164962 ; accuracy 0.6831833\n",
      "epoch 78 : loss 1.6130106 ; accuracy 0.68405\n",
      "epoch 79 : loss 1.6095333 ; accuracy 0.68471664\n",
      "epoch 80 : loss 1.6060643 ; accuracy 0.68558335\n",
      "epoch 81 : loss 1.6026034 ; accuracy 0.68623334\n",
      "epoch 82 : loss 1.5991508 ; accuracy 0.6869\n",
      "epoch 83 : loss 1.5957065 ; accuracy 0.68755\n",
      "epoch 84 : loss 1.5922706 ; accuracy 0.6881833\n",
      "epoch 85 : loss 1.5888431 ; accuracy 0.68878335\n",
      "epoch 86 : loss 1.5854242 ; accuracy 0.6892167\n",
      "epoch 87 : loss 1.5820138 ; accuracy 0.68988335\n",
      "epoch 88 : loss 1.578612 ; accuracy 0.69065\n",
      "epoch 89 : loss 1.5752188 ; accuracy 0.6911167\n",
      "epoch 90 : loss 1.5718342 ; accuracy 0.69166666\n",
      "epoch 91 : loss 1.5684586 ; accuracy 0.69233334\n",
      "epoch 92 : loss 1.5650914 ; accuracy 0.693\n",
      "epoch 93 : loss 1.5617334 ; accuracy 0.6936333\n",
      "epoch 94 : loss 1.5583838 ; accuracy 0.6942833\n",
      "epoch 95 : loss 1.5550435 ; accuracy 0.695\n",
      "epoch 96 : loss 1.551712 ; accuracy 0.6956\n",
      "epoch 97 : loss 1.5483894 ; accuracy 0.6961\n",
      "epoch 98 : loss 1.5450759 ; accuracy 0.6968333\n",
      "epoch 99 : loss 1.5417714 ; accuracy 0.6975167\n",
      "test loss 1.5238744 ; accuracy 0.7034\n"
     ]
    }
   ],
   "source": [
    "train_data, test_data = mnist_dataset()\n",
    "for epoch in range(100):\n",
    "    loss, accuracy = train_one_step(model, optimizer, \n",
    "                                    tf.constant(train_data[0], dtype=tf.float32), \n",
    "                                    tf.constant(train_data[1], dtype=tf.int64))\n",
    "    print('epoch', epoch, ': loss', loss.numpy(), '; accuracy', accuracy.numpy())\n",
    "loss, accuracy = test(model, \n",
    "                      tf.constant(test_data[0], dtype=tf.float32), \n",
    "                      tf.constant(test_data[1], dtype=tf.int64))\n",
    "\n",
    "print('test loss', loss.numpy(), '; accuracy', accuracy.numpy())"
   ]
  }
 ],
 "metadata": {
  "kernelspec": {
   "display_name": "Python 3",
   "language": "python",
   "name": "python3"
  },
  "language_info": {
   "codemirror_mode": {
    "name": "ipython",
    "version": 3
   },
   "file_extension": ".py",
   "mimetype": "text/x-python",
   "name": "python",
   "nbconvert_exporter": "python",
   "pygments_lexer": "ipython3",
   "version": "3.7.0"
  }
 },
 "nbformat": 4,
 "nbformat_minor": 2
}
