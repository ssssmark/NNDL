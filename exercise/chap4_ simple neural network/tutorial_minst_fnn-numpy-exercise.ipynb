{
 "cells": [
  {
   "cell_type": "markdown",
   "metadata": {},
   "source": [
    "## 准备数据"
   ]
  },
  {
   "cell_type": "code",
   "execution_count": 14,
   "metadata": {
    "ExecuteTime": {
     "end_time": "2024-03-11T11:55:59.414245600Z",
     "start_time": "2024-03-11T11:55:59.375350300Z"
    }
   },
   "outputs": [],
   "source": [
    "import os\n",
    "import numpy as np\n",
    "import tensorflow as tf\n",
    "from tensorflow import keras\n",
    "from tensorflow.keras import layers, optimizers, datasets\n",
    "\n",
    "os.environ['TF_CPP_MIN_LOG_LEVEL'] = '2'  # or any {'0', '1', '2'}\n",
    "\n",
    "def mnist_dataset():\n",
    "    (x, y), (x_test, y_test) = datasets.mnist.load_data()\n",
    "    #normalize\n",
    "    x = x/255.0\n",
    "    x_test = x_test/255.0\n",
    "    \n",
    "    return (x, y), (x_test, y_test)"
   ]
  },
  {
   "cell_type": "markdown",
   "metadata": {},
   "source": [
    "## Demo numpy based auto differentiation"
   ]
  },
  {
   "cell_type": "code",
   "execution_count": 23,
   "metadata": {
    "ExecuteTime": {
     "end_time": "2024-03-11T12:11:11.296962100Z",
     "start_time": "2024-03-11T12:11:11.275021400Z"
    }
   },
   "outputs": [],
   "source": [
    "import numpy as np\n",
    "\n",
    "class Matmul:\n",
    "    def __init__(self):\n",
    "        self.mem = {}\n",
    "        \n",
    "    def forward(self, x, W):\n",
    "        h = np.matmul(x, W)\n",
    "        self.mem={'x': x, 'W':W}\n",
    "        return h\n",
    "    \n",
    "    def backward(self, grad_y):\n",
    "        '''\n",
    "        x: shape(N, d)\n",
    "        w: shape(d, d')\n",
    "        grad_y: shape(N, d')\n",
    "        '''\n",
    "        x = self.mem['x']\n",
    "        W = self.mem['W']\n",
    "        \n",
    "        ####################\n",
    "        '''计算矩阵乘法的对应的梯度'''\n",
    "        ####################\n",
    "        # 计算相对于输入 x 的梯度\n",
    "        grad_x = np.matmul(grad_y, W.T)\n",
    "\n",
    "        # 计算相对于权重矩阵 W 的梯度\n",
    "        grad_W = np.matmul(x.T, grad_y)\n",
    "        return grad_x, grad_W\n",
    "\n",
    "\n",
    "class Relu:\n",
    "    def __init__(self):\n",
    "        self.mem = {}\n",
    "        \n",
    "    def forward(self, x):\n",
    "        self.mem['x']=x\n",
    "        return np.where(x > 0, x, np.zeros_like(x))\n",
    "    \n",
    "    def backward(self, grad_y):\n",
    "        '''\n",
    "        grad_y: same shape as x\n",
    "        '''\n",
    "        ####################\n",
    "        '''计算relu 激活函数对应的梯度'''\n",
    "        ####################\n",
    "        x=self.mem['x']\n",
    "        grad_x=np.where(x>0,grad_y,0)\n",
    "        return grad_x\n",
    "    \n",
    "\n",
    "\n",
    "class Softmax:\n",
    "    '''\n",
    "    softmax over last dimention\n",
    "    '''\n",
    "    def __init__(self):\n",
    "        self.epsilon = 1e-12\n",
    "        self.mem = {}\n",
    "        \n",
    "    def forward(self, x):\n",
    "        '''\n",
    "        x: shape(N, c)\n",
    "        '''\n",
    "        x_exp = np.exp(x)\n",
    "        partition = np.sum(x_exp, axis=1, keepdims=True)\n",
    "        out = x_exp/(partition+self.epsilon)\n",
    "        \n",
    "        self.mem['out'] = out\n",
    "        self.mem['x_exp'] = x_exp\n",
    "        return out\n",
    "    \n",
    "    def backward(self, grad_y):\n",
    "        '''\n",
    "        grad_y: same shape as x\n",
    "        '''\n",
    "        s = self.mem['out']\n",
    "        sisj = np.matmul(np.expand_dims(s,axis=2), np.expand_dims(s, axis=1)) # (N, c, c)\n",
    "        g_y_exp = np.expand_dims(grad_y, axis=1)\n",
    "        tmp = np.matmul(g_y_exp, sisj) #(N, 1, c)\n",
    "        tmp = np.squeeze(tmp, axis=1)\n",
    "        tmp = -tmp+grad_y*s \n",
    "        return tmp\n",
    "    \n",
    "class Log:\n",
    "    '''\n",
    "    softmax over last dimention\n",
    "    '''\n",
    "    def __init__(self):\n",
    "        self.epsilon = 1e-12\n",
    "        self.mem = {}\n",
    "        \n",
    "    def forward(self, x):\n",
    "        '''\n",
    "        x: shape(N, c)\n",
    "        '''\n",
    "        out = np.log(x+self.epsilon)\n",
    "        \n",
    "        self.mem['x'] = x\n",
    "        return out\n",
    "    \n",
    "    def backward(self, grad_y):\n",
    "        '''\n",
    "        grad_y: same shape as x\n",
    "        '''\n",
    "        x = self.mem['x']\n",
    "        \n",
    "        return 1./(x+1e-12) * grad_y\n",
    "    \n"
   ]
  },
  {
   "cell_type": "markdown",
   "metadata": {},
   "source": [
    "## Gradient check"
   ]
  },
  {
   "cell_type": "code",
   "execution_count": 16,
   "metadata": {
    "ExecuteTime": {
     "end_time": "2024-03-11T11:55:59.428208400Z",
     "start_time": "2024-03-11T11:55:59.408262200Z"
    }
   },
   "outputs": [],
   "source": [
    "# import tensorflow as tf\n",
    "\n",
    "# x = np.random.normal(size=[5, 6])\n",
    "# W = np.random.normal(size=[6, 4])\n",
    "# aa = Matmul()\n",
    "# out = aa.forward(x, W) # shape(5, 4)\n",
    "# grad = aa.backward(np.ones_like(out))\n",
    "# print (grad)\n",
    "\n",
    "# with tf.GradientTape() as tape:\n",
    "#     x, W = tf.constant(x), tf.constant(W)\n",
    "#     tape.watch(x)\n",
    "#     y = tf.matmul(x, W)\n",
    "#     loss = tf.reduce_sum(y)\n",
    "#     grads = tape.gradient(loss, x)\n",
    "#     print (grads)\n",
    "\n",
    "# import tensorflow as tf\n",
    "\n",
    "# x = np.random.normal(size=[5, 6])\n",
    "# aa = Relu()\n",
    "# out = aa.forward(x) # shape(5, 4)\n",
    "# grad = aa.backward(np.ones_like(out))\n",
    "# print (grad)\n",
    "\n",
    "# with tf.GradientTape() as tape:\n",
    "#     x= tf.constant(x)\n",
    "#     tape.watch(x)\n",
    "#     y = tf.nn.relu(x)\n",
    "#     loss = tf.reduce_sum(y)\n",
    "#     grads = tape.gradient(loss, x)\n",
    "#     print (grads)\n",
    "\n",
    "# import tensorflow as tf\n",
    "# x = np.random.normal(size=[5, 6], scale=5.0, loc=1)\n",
    "# label = np.zeros_like(x)\n",
    "# label[0, 1]=1.\n",
    "# label[1, 0]=1\n",
    "# label[1, 1]=1\n",
    "# label[2, 3]=1\n",
    "# label[3, 5]=1\n",
    "# label[4, 0]=1\n",
    "# print(label)\n",
    "# aa = Softmax()\n",
    "# out = aa.forward(x) # shape(5, 6)\n",
    "# grad = aa.backward(label)\n",
    "# print (grad)\n",
    "\n",
    "# with tf.GradientTape() as tape:\n",
    "#     x= tf.constant(x)\n",
    "#     tape.watch(x)\n",
    "#     y = tf.nn.softmax(x)\n",
    "#     loss = tf.reduce_sum(y*label)\n",
    "#     grads = tape.gradient(loss, x)\n",
    "#     print (grads)\n",
    "\n",
    "# import tensorflow as tf\n",
    "\n",
    "# x = np.random.normal(size=[5, 6])\n",
    "# aa = Log()\n",
    "# out = aa.forward(x) # shape(5, 4)\n",
    "# grad = aa.backward(label)\n",
    "# print (grad)\n",
    "\n",
    "# with tf.GradientTape() as tape:\n",
    "#     x= tf.constant(x)\n",
    "#     tape.watch(x)\n",
    "#     y = tf.math.log(x)\n",
    "#     loss = tf.reduce_sum(y*label)\n",
    "#     grads = tape.gradient(loss, x)\n",
    "#     print (grads)"
   ]
  },
  {
   "cell_type": "markdown",
   "metadata": {},
   "source": [
    "# Final Gradient Check"
   ]
  },
  {
   "cell_type": "code",
   "execution_count": 17,
   "metadata": {
    "ExecuteTime": {
     "end_time": "2024-03-11T11:55:59.468107200Z",
     "start_time": "2024-03-11T11:55:59.426214200Z"
    }
   },
   "outputs": [
    {
     "ename": "NameError",
     "evalue": "name 'x' is not defined",
     "output_type": "error",
     "traceback": [
      "\u001B[1;31m---------------------------------------------------------------------------\u001B[0m",
      "\u001B[1;31mNameError\u001B[0m                                 Traceback (most recent call last)",
      "Cell \u001B[1;32mIn[17], line 3\u001B[0m\n\u001B[0;32m      1\u001B[0m \u001B[38;5;28;01mimport\u001B[39;00m \u001B[38;5;21;01mtensorflow\u001B[39;00m \u001B[38;5;28;01mas\u001B[39;00m \u001B[38;5;21;01mtf\u001B[39;00m\n\u001B[1;32m----> 3\u001B[0m label \u001B[38;5;241m=\u001B[39m np\u001B[38;5;241m.\u001B[39mzeros_like(\u001B[43mx\u001B[49m)\n\u001B[0;32m      4\u001B[0m label[\u001B[38;5;241m0\u001B[39m, \u001B[38;5;241m1\u001B[39m]\u001B[38;5;241m=\u001B[39m\u001B[38;5;241m1.\u001B[39m\n\u001B[0;32m      5\u001B[0m label[\u001B[38;5;241m1\u001B[39m, \u001B[38;5;241m0\u001B[39m]\u001B[38;5;241m=\u001B[39m\u001B[38;5;241m1\u001B[39m\n",
      "\u001B[1;31mNameError\u001B[0m: name 'x' is not defined"
     ]
    }
   ],
   "source": [
    "import tensorflow as tf\n",
    "\n",
    "label = np.zeros_like(x)\n",
    "label[0, 1]=1.\n",
    "label[1, 0]=1\n",
    "label[2, 3]=1\n",
    "label[3, 5]=1\n",
    "label[4, 0]=1\n",
    "\n",
    "x = np.random.normal(size=[5, 6])\n",
    "W1 = np.random.normal(size=[6, 5])\n",
    "W2 = np.random.normal(size=[5, 6])\n",
    "\n",
    "mul_h1 = Matmul()\n",
    "mul_h2 = Matmul()\n",
    "relu = Relu()\n",
    "softmax = Softmax()\n",
    "log = Log()\n",
    "\n",
    "h1 = mul_h1.forward(x, W1) # shape(5, 4)\n",
    "h1_relu = relu.forward(h1)\n",
    "h2 = mul_h2.forward(h1_relu, W2)\n",
    "h2_soft = softmax.forward(h2)\n",
    "h2_log = log.forward(h2_soft)\n",
    "\n",
    "\n",
    "h2_log_grad = log.backward(label)\n",
    "h2_soft_grad = softmax.backward(h2_log_grad)\n",
    "h2_grad, W2_grad = mul_h2.backward(h2_soft_grad)\n",
    "h1_relu_grad = relu.backward(h2_grad)\n",
    "h1_grad, W1_grad = mul_h1.backward(h1_relu_grad)\n",
    "\n",
    "print(h2_log_grad)\n",
    "print('--'*20)\n",
    "# print(W2_grad)\n",
    "\n",
    "with tf.GradientTape() as tape:\n",
    "    x, W1, W2, label = tf.constant(x), tf.constant(W1), tf.constant(W2), tf.constant(label)\n",
    "    tape.watch(W1)\n",
    "    tape.watch(W2)\n",
    "    h1 = tf.matmul(x, W1)\n",
    "    h1_relu = tf.nn.relu(h1)\n",
    "    h2 = tf.matmul(h1_relu, W2)\n",
    "    prob = tf.nn.softmax(h2)\n",
    "    log_prob = tf.math.log(prob)\n",
    "    loss = tf.reduce_sum(label * log_prob)\n",
    "    grads = tape.gradient(loss, [prob])\n",
    "    print (grads[0].numpy())"
   ]
  },
  {
   "cell_type": "markdown",
   "metadata": {},
   "source": [
    "## 建立模型"
   ]
  },
  {
   "cell_type": "code",
   "execution_count": 26,
   "metadata": {
    "ExecuteTime": {
     "end_time": "2024-03-11T12:11:29.311189800Z",
     "start_time": "2024-03-11T12:11:29.291243200Z"
    }
   },
   "outputs": [],
   "source": [
    "class myModel:\n",
    "    def __init__(self):\n",
    "        \n",
    "        self.W1 = np.random.normal(size=[28*28+1, 100])\n",
    "        self.W2 = np.random.normal(size=[100, 10])\n",
    "        \n",
    "        self.mul_h1 = Matmul()\n",
    "        self.mul_h2 = Matmul()\n",
    "        self.relu = Relu()\n",
    "        self.softmax = Softmax()\n",
    "        self.log = Log()\n",
    "        \n",
    "        \n",
    "    def forward(self, x):\n",
    "        x = x.reshape(-1, 28*28)\n",
    "        bias = np.ones(shape=[x.shape[0], 1])\n",
    "        x = np.concatenate([x, bias], axis=1)\n",
    "        \n",
    "        self.h1 = self.mul_h1.forward(x, self.W1) # shape(5, 4)\n",
    "        self.h1_relu = self.relu.forward(self.h1)\n",
    "        self.h2 = self.mul_h2.forward(self.h1_relu, self.W2)\n",
    "        self.h2_soft = self.softmax.forward(self.h2)\n",
    "        self.h2_log = self.log.forward(self.h2_soft)\n",
    "            \n",
    "    def backward(self, label):\n",
    "        self.h2_log_grad = self.log.backward(-label)\n",
    "        self.h2_soft_grad = self.softmax.backward(self.h2_log_grad)\n",
    "        self.h2_grad, self.W2_grad = self.mul_h2.backward(self.h2_soft_grad)\n",
    "        self.h1_relu_grad = self.relu.backward(self.h2_grad)\n",
    "        self.h1_grad, self.W1_grad = self.mul_h1.backward(self.h1_relu_grad)\n",
    "        \n",
    "model = myModel()\n"
   ]
  },
  {
   "cell_type": "markdown",
   "metadata": {},
   "source": [
    "## 计算 loss"
   ]
  },
  {
   "cell_type": "code",
   "execution_count": 25,
   "metadata": {
    "ExecuteTime": {
     "end_time": "2024-03-11T12:11:25.840422100Z",
     "start_time": "2024-03-11T12:11:25.831465500Z"
    }
   },
   "outputs": [],
   "source": [
    "def compute_loss(log_prob, labels):\n",
    "     return np.mean(np.sum(-log_prob*labels, axis=1))\n",
    "    \n",
    "\n",
    "def compute_accuracy(log_prob, labels):\n",
    "    predictions = np.argmax(log_prob, axis=1)\n",
    "    truth = np.argmax(labels, axis=1)\n",
    "    return np.mean(predictions==truth)\n",
    "\n",
    "def train_one_step(model, x, y):\n",
    "    model.forward(x)\n",
    "    model.backward(y)\n",
    "    model.W1 -= 1e-5* model.W1_grad\n",
    "    model.W2 -= 1e-5* model.W2_grad\n",
    "    loss = compute_loss(model.h2_log, y)\n",
    "    accuracy = compute_accuracy(model.h2_log, y)\n",
    "    return loss, accuracy\n",
    "\n",
    "def test(model, x, y):\n",
    "    model.forward(x)\n",
    "    loss = compute_loss(model.h2_log, y)\n",
    "    accuracy = compute_accuracy(model.h2_log, y)\n",
    "    return loss, accuracy"
   ]
  },
  {
   "cell_type": "markdown",
   "metadata": {},
   "source": [
    "## 实际训练"
   ]
  },
  {
   "cell_type": "code",
   "execution_count": 27,
   "metadata": {
    "ExecuteTime": {
     "end_time": "2024-03-11T12:11:56.511563200Z",
     "start_time": "2024-03-11T12:11:31.499040600Z"
    }
   },
   "outputs": [
    {
     "name": "stdout",
     "output_type": "stream",
     "text": [
      "epoch 0 : loss 23.08570383697265 ; accuracy 0.11818333333333333\n",
      "epoch 1 : loss 21.495683068535165 ; accuracy 0.17551666666666665\n",
      "epoch 2 : loss 20.361539309757372 ; accuracy 0.21671666666666667\n",
      "epoch 3 : loss 19.39945445171476 ; accuracy 0.24103333333333332\n",
      "epoch 4 : loss 18.55564876630584 ; accuracy 0.27616666666666667\n",
      "epoch 5 : loss 16.95495734797302 ; accuracy 0.32905\n",
      "epoch 6 : loss 16.166418550057752 ; accuracy 0.3521666666666667\n",
      "epoch 7 : loss 15.565244267329176 ; accuracy 0.38075\n",
      "epoch 8 : loss 15.076063330890054 ; accuracy 0.3933333333333333\n",
      "epoch 9 : loss 14.55647833757301 ; accuracy 0.4172\n",
      "epoch 10 : loss 14.326076153796656 ; accuracy 0.4209833333333333\n",
      "epoch 11 : loss 14.04634623541856 ; accuracy 0.43938333333333335\n",
      "epoch 12 : loss 13.717380687074506 ; accuracy 0.4424\n",
      "epoch 13 : loss 13.362108569874653 ; accuracy 0.4616\n",
      "epoch 14 : loss 12.94992799304464 ; accuracy 0.4684\n",
      "epoch 15 : loss 12.402523469246127 ; accuracy 0.49296666666666666\n",
      "epoch 16 : loss 11.955219310232257 ; accuracy 0.5042\n",
      "epoch 17 : loss 11.400717973088543 ; accuracy 0.5283333333333333\n",
      "epoch 18 : loss 10.955545291605711 ; accuracy 0.54115\n",
      "epoch 19 : loss 10.687732329980106 ; accuracy 0.5566166666666666\n",
      "epoch 20 : loss 10.44600189470772 ; accuracy 0.5614\n",
      "epoch 21 : loss 10.406341990910372 ; accuracy 0.5709333333333333\n",
      "epoch 22 : loss 10.127483740228492 ; accuracy 0.57555\n",
      "epoch 23 : loss 10.003549946309837 ; accuracy 0.58825\n",
      "epoch 24 : loss 9.71422189054085 ; accuracy 0.5941333333333333\n",
      "epoch 25 : loss 9.585734394275867 ; accuracy 0.6048166666666667\n",
      "epoch 26 : loss 9.400403988264385 ; accuracy 0.6081\n",
      "epoch 27 : loss 9.299410466523135 ; accuracy 0.6163333333333333\n",
      "epoch 28 : loss 9.169976177584354 ; accuracy 0.61885\n",
      "epoch 29 : loss 9.088830507154311 ; accuracy 0.6245833333333334\n",
      "epoch 30 : loss 8.9797468898541 ; accuracy 0.6270333333333333\n",
      "epoch 31 : loss 8.915618846306723 ; accuracy 0.6321\n",
      "epoch 32 : loss 8.825596035986809 ; accuracy 0.6333333333333333\n",
      "epoch 33 : loss 8.78309604694042 ; accuracy 0.63735\n",
      "epoch 34 : loss 8.716152127884842 ; accuracy 0.6387833333333334\n",
      "epoch 35 : loss 8.717765145907352 ; accuracy 0.64035\n",
      "epoch 36 : loss 8.704235530827216 ; accuracy 0.6395\n",
      "epoch 37 : loss 8.74518199392096 ; accuracy 0.6399166666666667\n",
      "epoch 38 : loss 8.80021399544799 ; accuracy 0.63615\n",
      "epoch 39 : loss 8.813722828666302 ; accuracy 0.6376833333333334\n",
      "epoch 40 : loss 8.877420336055563 ; accuracy 0.6342833333333333\n",
      "epoch 41 : loss 8.673813229092284 ; accuracy 0.6436333333333333\n",
      "epoch 42 : loss 8.688735819726741 ; accuracy 0.6423166666666666\n",
      "epoch 43 : loss 8.548034146775983 ; accuracy 0.6493833333333333\n",
      "epoch 44 : loss 8.53143370043836 ; accuracy 0.6485666666666666\n",
      "epoch 45 : loss 8.4146130645189 ; accuracy 0.6552\n",
      "epoch 46 : loss 8.383188415787199 ; accuracy 0.6548166666666667\n",
      "epoch 47 : loss 8.280694604543113 ; accuracy 0.6605833333333333\n",
      "epoch 48 : loss 8.245166491614457 ; accuracy 0.6609666666666667\n",
      "epoch 49 : loss 8.16917436833294 ; accuracy 0.6650666666666667\n",
      "test loss 8.070978563573398 ; accuracy 0.67\n"
     ]
    }
   ],
   "source": [
    "train_data, test_data = mnist_dataset()\n",
    "train_label = np.zeros(shape=[train_data[0].shape[0], 10])\n",
    "test_label = np.zeros(shape=[test_data[0].shape[0], 10])\n",
    "train_label[np.arange(train_data[0].shape[0]), np.array(train_data[1])] = 1.\n",
    "test_label[np.arange(test_data[0].shape[0]), np.array(test_data[1])] = 1.\n",
    "\n",
    "for epoch in range(50):\n",
    "    loss, accuracy = train_one_step(model, train_data[0], train_label)\n",
    "    print('epoch', epoch, ': loss', loss, '; accuracy', accuracy)\n",
    "loss, accuracy = test(model, test_data[0], test_label)\n",
    "\n",
    "print('test loss', loss, '; accuracy', accuracy)"
   ]
  }
 ],
 "metadata": {
  "kernelspec": {
   "display_name": "Python 3",
   "language": "python",
   "name": "python3"
  },
  "language_info": {
   "codemirror_mode": {
    "name": "ipython",
    "version": 3
   },
   "file_extension": ".py",
   "mimetype": "text/x-python",
   "name": "python",
   "nbconvert_exporter": "python",
   "pygments_lexer": "ipython3",
   "version": "3.7.0"
  }
 },
 "nbformat": 4,
 "nbformat_minor": 2
}
