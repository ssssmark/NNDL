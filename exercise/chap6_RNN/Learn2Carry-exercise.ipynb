{
 "cells": [
  {
   "cell_type": "markdown",
   "metadata": {},
   "source": [
    "# 加法进位实验\n"
   ]
  },
  {
   "cell_type": "markdown",
   "metadata": {},
   "source": [
    "![image](https://camo.githubusercontent.com/34336d49372d3fcbeac11c27bb3548fdccfdb90fc5a0b4ca6b271943d40308ed/68747470733a2f2f6769746875622e636f6d2f4a657272696b4570682f6a657272696b6570682e6769746875622e696f2f7261772f6d61737465722f4c6561726e3243617272792e706e67)"
   ]
  },
  {
   "cell_type": "code",
   "execution_count": 14,
   "metadata": {
    "scrolled": true,
    "ExecuteTime": {
     "end_time": "2024-03-25T08:32:21.926496900Z",
     "start_time": "2024-03-25T08:32:21.892587700Z"
    }
   },
   "outputs": [],
   "source": [
    "import numpy as np\n",
    "import tensorflow as tf\n",
    "import collections\n",
    "from tensorflow import keras\n",
    "from tensorflow.keras import layers\n",
    "from tensorflow.keras import layers, optimizers, datasets\n",
    "import os,sys,tqdm\n"
   ]
  },
  {
   "cell_type": "markdown",
   "metadata": {},
   "source": [
    "## 数据生成\n",
    "我们随机在 `start->end`之间采样除整数对`(num1, num2)`，计算结果`num1+num2`作为监督信号。\n",
    "\n",
    "* 首先将数字转换成数字位列表 `convertNum2Digits`\n",
    "* 将数字位列表反向\n",
    "* 将数字位列表填充到同样的长度 `pad2len`\n"
   ]
  },
  {
   "cell_type": "code",
   "execution_count": 15,
   "metadata": {
    "ExecuteTime": {
     "end_time": "2024-03-25T08:32:21.954423300Z",
     "start_time": "2024-03-25T08:32:21.912536100Z"
    }
   },
   "outputs": [],
   "source": [
    "def gen_data_batch(batch_size, start, end):\n",
    "    '''在(start, end)区间采样生成一个batch的整型的数据\n",
    "    Args :\n",
    "        batch_size: batch_size\n",
    "        start: 开始数值\n",
    "        end: 结束数值\n",
    "    '''\n",
    "    numbers_1 = np.random.randint(start, end, batch_size)\n",
    "    numbers_2 = np.random.randint(start, end, batch_size)\n",
    "    results = numbers_1 + numbers_2\n",
    "    return numbers_1, numbers_2, results\n",
    "\n",
    "def convertNum2Digits(Num):\n",
    "    '''将一个整数转换成一个数字位的列表,例如 133412 ==> [1, 3, 3, 4, 1, 2]\n",
    "    '''\n",
    "    strNum = str(Num)\n",
    "    chNums = list(strNum)\n",
    "    digitNums = [int(o) for o in strNum]\n",
    "    return digitNums\n",
    "\n",
    "def convertDigits2Num(Digits):\n",
    "    '''将数字位列表反向， 例如 [1, 3, 3, 4, 1, 2] ==> [2, 1, 4, 3, 3, 1]\n",
    "    '''\n",
    "    digitStrs = [str(o) for o in Digits]\n",
    "    numStr = ''.join(digitStrs)\n",
    "    Num = int(numStr)\n",
    "    return Num\n",
    "\n",
    "def pad2len(lst, length, pad=0):\n",
    "    '''将一个列表用`pad`填充到`length`的长度 例如 pad2len([1, 3, 2, 3], 6, pad=0) ==> [1, 3, 2, 3, 0, 0]\n",
    "    '''\n",
    "    lst+=[pad]*(length - len(lst))\n",
    "    return lst\n",
    "\n",
    "def results_converter(res_lst):\n",
    "    '''将预测好的数字位列表批量转换成为原始整数\n",
    "    Args:\n",
    "        res_lst: shape(b_sz, len(digits))\n",
    "    '''\n",
    "    res = [reversed(digits) for digits in res_lst]\n",
    "    return [convertDigits2Num(digits) for digits in res]\n",
    "\n",
    "def prepare_batch(Nums1, Nums2, results, maxlen):\n",
    "    '''准备一个batch的数据，将数值转换成反转的数位列表并且填充到固定长度\n",
    "    Args:\n",
    "        Nums1: shape(batch_size,)\n",
    "        Nums2: shape(batch_size,)\n",
    "        results: shape(batch_size,)\n",
    "        maxlen:  type(int)\n",
    "    Returns:\n",
    "        Nums1: shape(batch_size, maxlen)\n",
    "        Nums2: shape(batch_size, maxlen)\n",
    "        results: shape(batch_size, maxlen)\n",
    "    '''\n",
    "    Nums1 = [convertNum2Digits(o) for o in Nums1]\n",
    "    Nums2 = [convertNum2Digits(o) for o in Nums2]\n",
    "    results = [convertNum2Digits(o) for o in results]\n",
    "    \n",
    "    Nums1 = [list(reversed(o)) for o in Nums1]\n",
    "    Nums2 = [list(reversed(o)) for o in Nums2]\n",
    "    results = [list(reversed(o)) for o in results]\n",
    "    \n",
    "    Nums1 = [pad2len(o, maxlen) for o in Nums1]\n",
    "    Nums2 = [pad2len(o, maxlen) for o in Nums2]\n",
    "    results = [pad2len(o, maxlen) for o in results]\n",
    "    \n",
    "    return Nums1, Nums2, results"
   ]
  },
  {
   "cell_type": "markdown",
   "metadata": {},
   "source": [
    "# 建模过程， 按照图示完成建模"
   ]
  },
  {
   "cell_type": "code",
   "execution_count": 16,
   "metadata": {
    "ExecuteTime": {
     "end_time": "2024-03-25T08:32:21.955419700Z",
     "start_time": "2024-03-25T08:32:21.921511Z"
    }
   },
   "outputs": [],
   "source": [
    "class myRNNModel(keras.Model):\n",
    "    def __init__(self):\n",
    "        super(myRNNModel, self).__init__()\n",
    "        self.embed_layer = tf.keras.layers.Embedding(10, 32, \n",
    "                                                    batch_input_shape=[None, None])\n",
    "       \n",
    "        self.rnncell = tf.keras.layers.SimpleRNNCell(64)\n",
    "        self.rnn_layer = tf.keras.layers.RNN(self.rnncell, return_sequences=True)\n",
    "        self.dense = tf.keras.layers.Dense(10)\n",
    "        \n",
    "    @tf.function\n",
    "    def call(self, num1, num2):\n",
    "        '''\n",
    "        此处完成上述图中模型\n",
    "        '''\n",
    "        num1_embed=self.embed_layer(num1)\n",
    "        num2_embed=self.embed_layer(num2)\n",
    "        concat=tf.concat([num1_embed,num2_embed],axis=-1)\n",
    "        print(concat)\n",
    "        rnn_out=self.rnn_layer(concat)\n",
    "        logits=self.dense(rnn_out)\n",
    "        return logits"
   ]
  },
  {
   "cell_type": "code",
   "execution_count": 17,
   "metadata": {
    "ExecuteTime": {
     "end_time": "2024-03-25T08:32:21.955419700Z",
     "start_time": "2024-03-25T08:32:21.944449Z"
    }
   },
   "outputs": [],
   "source": [
    "@tf.function\n",
    "def compute_loss(logits, labels):\n",
    "    losses = tf.nn.sparse_softmax_cross_entropy_with_logits(\n",
    "            logits=logits, labels=labels)\n",
    "    return tf.reduce_mean(losses)\n",
    "\n",
    "@tf.function\n",
    "def train_one_step(model, optimizer, x, y, label):\n",
    "    with tf.GradientTape() as tape:\n",
    "        logits = model(x, y)\n",
    "        loss = compute_loss(logits, label)\n",
    "\n",
    "    # compute gradient\n",
    "    grads = tape.gradient(loss, model.trainable_variables)\n",
    "    optimizer.apply_gradients(zip(grads, model.trainable_variables))\n",
    "    return loss\n",
    "\n",
    "def train(steps, model, optimizer):\n",
    "    loss = 0.0\n",
    "    accuracy = 0.0\n",
    "    for step in range(steps):\n",
    "        datas = gen_data_batch(batch_size=200, start=0, end=555555555)\n",
    "        Nums1, Nums2, results = prepare_batch(*datas, maxlen=11)\n",
    "        loss = train_one_step(model, optimizer, tf.constant(Nums1, dtype=tf.int32), \n",
    "                              tf.constant(Nums2, dtype=tf.int32),\n",
    "                              tf.constant(results, dtype=tf.int32))\n",
    "        if step%50 == 0:\n",
    "            print('step', step, ': loss', loss.numpy())\n",
    "\n",
    "    return loss\n",
    "\n",
    "def evaluate(model):\n",
    "    datas = gen_data_batch(batch_size=2000, start=555555555, end=999999999)\n",
    "    Nums1, Nums2, results = prepare_batch(*datas, maxlen=11)\n",
    "    logits = model(tf.constant(Nums1, dtype=tf.int32), tf.constant(Nums2, dtype=tf.int32))\n",
    "    logits = logits.numpy()\n",
    "    pred = np.argmax(logits, axis=-1)\n",
    "    res = results_converter(pred)\n",
    "    for o in list(zip(datas[2], res))[:20]:\n",
    "        print(o[0], o[1], o[0]==o[1])\n",
    "\n",
    "    print('accuracy is: %g' % np.mean([o[0]==o[1] for o in zip(datas[2], res)]))\n"
   ]
  },
  {
   "cell_type": "code",
   "execution_count": 18,
   "metadata": {
    "ExecuteTime": {
     "end_time": "2024-03-25T08:32:21.968385900Z",
     "start_time": "2024-03-25T08:32:21.953425500Z"
    }
   },
   "outputs": [],
   "source": [
    "optimizer = optimizers.Adam(0.001)\n",
    "model = myRNNModel()"
   ]
  },
  {
   "cell_type": "code",
   "execution_count": 19,
   "metadata": {
    "ExecuteTime": {
     "end_time": "2024-03-25T08:32:48.963359Z",
     "start_time": "2024-03-25T08:32:21.969383800Z"
    }
   },
   "outputs": [
    {
     "name": "stdout",
     "output_type": "stream",
     "text": [
      "Tensor(\"concat:0\", shape=(200, 11, 64), dtype=float32)\n",
      "Tensor(\"concat:0\", shape=(200, 11, 64), dtype=float32)\n",
      "step 0 : loss 2.2922416\n",
      "step 50 : loss 1.9292108\n",
      "step 100 : loss 1.9033134\n",
      "step 150 : loss 1.8942627\n",
      "step 200 : loss 1.8964957\n",
      "step 250 : loss 1.8875318\n",
      "step 300 : loss 1.8924212\n",
      "step 350 : loss 1.8856441\n",
      "step 400 : loss 1.8868308\n",
      "step 450 : loss 1.8754239\n",
      "step 500 : loss 1.8777996\n",
      "step 550 : loss 1.8839402\n",
      "step 600 : loss 1.8721644\n",
      "step 650 : loss 1.8801174\n",
      "step 700 : loss 1.8695619\n",
      "step 750 : loss 1.8777246\n",
      "step 800 : loss 1.882802\n",
      "step 850 : loss 1.8757648\n",
      "step 900 : loss 1.8755908\n",
      "step 950 : loss 1.8928813\n",
      "step 1000 : loss 1.8726531\n",
      "step 1050 : loss 1.8720745\n",
      "step 1100 : loss 1.8733345\n",
      "step 1150 : loss 1.8634188\n",
      "step 1200 : loss 1.8629011\n",
      "step 1250 : loss 1.8591002\n",
      "step 1300 : loss 1.8596816\n",
      "step 1350 : loss 1.8476261\n",
      "step 1400 : loss 1.8316112\n",
      "step 1450 : loss 1.7665465\n",
      "step 1500 : loss 1.6996075\n",
      "step 1550 : loss 1.5716206\n",
      "step 1600 : loss 1.3614831\n",
      "step 1650 : loss 1.1522157\n",
      "step 1700 : loss 0.95873123\n",
      "step 1750 : loss 0.8295837\n",
      "step 1800 : loss 0.72770315\n",
      "step 1850 : loss 0.64226294\n",
      "step 1900 : loss 0.5678795\n",
      "step 1950 : loss 0.4974364\n",
      "step 2000 : loss 0.42298797\n",
      "step 2050 : loss 0.374851\n",
      "step 2100 : loss 0.31529275\n",
      "step 2150 : loss 0.27042207\n",
      "step 2200 : loss 0.2314398\n",
      "step 2250 : loss 0.1951513\n",
      "step 2300 : loss 0.16641265\n",
      "step 2350 : loss 0.14200628\n",
      "step 2400 : loss 0.12299081\n",
      "step 2450 : loss 0.10653791\n",
      "step 2500 : loss 0.092038065\n",
      "step 2550 : loss 0.08148145\n",
      "step 2600 : loss 0.07139145\n",
      "step 2650 : loss 0.06283098\n",
      "step 2700 : loss 0.05709384\n",
      "step 2750 : loss 0.050586868\n",
      "step 2800 : loss 0.04576816\n",
      "step 2850 : loss 0.04098164\n",
      "step 2900 : loss 0.037069626\n",
      "step 2950 : loss 0.034283593\n",
      "Tensor(\"concat:0\", shape=(2000, 11, 64), dtype=float32)\n",
      "1717234230 1717234230 True\n",
      "1469633300 1469633300 True\n",
      "1462411592 1462411592 True\n",
      "1476230389 1476230389 True\n",
      "1261000558 1261000558 True\n",
      "1544838837 1544838837 True\n",
      "1480637501 1480637501 True\n",
      "1312504017 1312504017 True\n",
      "1649260102 1649260102 True\n",
      "1454162053 1454162053 True\n",
      "1261301166 1261301166 True\n",
      "1185364978 1185364978 True\n",
      "1348040924 1348040924 True\n",
      "1793337872 1793337872 True\n",
      "1494897285 1494897285 True\n",
      "1546362991 1546362991 True\n",
      "1437763802 1437763802 True\n",
      "1495706165 1495706165 True\n",
      "1601075397 1601075397 True\n",
      "1785817951 1785817951 True\n",
      "accuracy is: 1\n"
     ]
    }
   ],
   "source": [
    "train(3000, model, optimizer)\n",
    "evaluate(model)"
   ]
  },
  {
   "cell_type": "code",
   "execution_count": 19,
   "metadata": {
    "collapsed": true,
    "ExecuteTime": {
     "end_time": "2024-03-25T08:32:48.990287Z",
     "start_time": "2024-03-25T08:32:48.966351800Z"
    }
   },
   "outputs": [],
   "source": []
  },
  {
   "cell_type": "code",
   "execution_count": 19,
   "metadata": {
    "ExecuteTime": {
     "end_time": "2024-03-25T08:32:49.001258500Z",
     "start_time": "2024-03-25T08:32:48.981311400Z"
    }
   },
   "outputs": [],
   "source": []
  },
  {
   "cell_type": "code",
   "execution_count": 19,
   "metadata": {
    "ExecuteTime": {
     "end_time": "2024-03-25T08:32:49.012228400Z",
     "start_time": "2024-03-25T08:32:48.996271Z"
    }
   },
   "outputs": [],
   "source": []
  },
  {
   "cell_type": "code",
   "execution_count": 19,
   "metadata": {
    "ExecuteTime": {
     "end_time": "2024-03-25T08:32:49.039156400Z",
     "start_time": "2024-03-25T08:32:49.016217900Z"
    }
   },
   "outputs": [],
   "source": []
  },
  {
   "cell_type": "code",
   "execution_count": 19,
   "metadata": {
    "collapsed": true,
    "ExecuteTime": {
     "end_time": "2024-03-25T08:32:49.049130600Z",
     "start_time": "2024-03-25T08:32:49.028186300Z"
    }
   },
   "outputs": [],
   "source": []
  }
 ],
 "metadata": {
  "kernelspec": {
   "display_name": "Python 3",
   "language": "python",
   "name": "python3"
  },
  "language_info": {
   "codemirror_mode": {
    "name": "ipython",
    "version": 3
   },
   "file_extension": ".py",
   "mimetype": "text/x-python",
   "name": "python",
   "nbconvert_exporter": "python",
   "pygments_lexer": "ipython3",
   "version": "3.7.0"
  }
 },
 "nbformat": 4,
 "nbformat_minor": 2
}
