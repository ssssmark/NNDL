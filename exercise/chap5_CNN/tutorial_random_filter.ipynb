{
 "cells": [
  {
   "cell_type": "markdown",
   "metadata": {},
   "source": [
    "## 随机 filter "
   ]
  },
  {
   "cell_type": "code",
   "execution_count": 1,
   "metadata": {
    "ExecuteTime": {
     "end_time": "2024-03-18T11:16:24.431983800Z",
     "start_time": "2024-03-18T11:16:15.717837800Z"
    }
   },
   "outputs": [],
   "source": [
    "import os\n",
    "import tensorflow as tf\n",
    "from tensorflow import keras\n",
    "from tensorflow.keras import layers, optimizers, datasets\n",
    "from tensorflow.keras.layers import Dense, Dropout, Flatten\n",
    "from tensorflow.keras.layers import Conv2D, MaxPooling2D\n",
    "\n",
    "class myConvModel(keras.Model):\n",
    "    def __init__(self):\n",
    "        super(myConvModel, self).__init__()\n",
    "        self.l1_conv = Conv2D(filters=3, kernel_size=(3, 3), padding='same')\n",
    "        \n",
    "    @tf.function\n",
    "    def call(self, x):\n",
    "        h1 = self.l1_conv(x)\n",
    "        return h1\n"
   ]
  },
  {
   "cell_type": "code",
   "execution_count": null,
   "metadata": {
    "is_executing": true,
    "ExecuteTime": {
     "start_time": "2024-03-18T11:16:24.436512700Z"
    }
   },
   "outputs": [],
   "source": [
    "random_conv = myConvModel()\n",
    "import numpy\n",
    "import pylab\n",
    "from PIL import Image\n",
    "import numpy as np\n",
    "\n",
    "# open random image of dimensions 639x516\n",
    "img = Image.open(open('corgi.jpg', 'rb'))\n",
    "img = numpy.asarray(img, dtype='float64') / 256.\n",
    "img = np.expand_dims(img, axis=0)\n",
    "img_out = random_conv(img)\n",
    "\n",
    "pylab.figure(figsize=(10,7))\n",
    "pylab.subplot(2, 2, 1); pylab.axis('off'); pylab.imshow(img[0, :, :, :])\n",
    "pylab.subplot(2, 2, 2); pylab.axis('off'); pylab.imshow(img_out[0, :, :, 0])\n",
    "pylab.subplot(2, 2, 3); pylab.axis('off'); pylab.imshow(img_out[0, :, :, 1])\n",
    "pylab.subplot(2, 2, 4); pylab.axis('off'); pylab.imshow(img_out[0, :, :, 2])\n",
    "pylab.show()\n"
   ]
  }
 ],
 "metadata": {
  "kernelspec": {
   "display_name": "Python 3",
   "language": "python",
   "name": "python3"
  },
  "language_info": {
   "codemirror_mode": {
    "name": "ipython",
    "version": 3
   },
   "file_extension": ".py",
   "mimetype": "text/x-python",
   "name": "python",
   "nbconvert_exporter": "python",
   "pygments_lexer": "ipython3",
   "version": "3.7.0"
  }
 },
 "nbformat": 4,
 "nbformat_minor": 2
}
