{
 "cells": [
  {
   "cell_type": "markdown",
   "metadata": {},
   "source": [
    "# 参考mnist_conv-keras实现针对cifar10的alexNet卷积模型\n",
    "\n",
    "\n",
    "#### 链接: https://pan.baidu.com/s/1LcCPcK9DgLS3W_DUPZS8kQ 提取码: 5vwz\n",
    "### 解压放到 ~/.keras/datasets/\n",
    "\n",
    "## tar zxvf cifar***.tar.zip"
   ]
  },
  {
   "cell_type": "markdown",
   "metadata": {},
   "source": [
    "## 准备数据"
   ]
  },
  {
   "cell_type": "code",
   "execution_count": 3,
   "metadata": {
    "ExecuteTime": {
     "end_time": "2024-03-18T10:49:02.231123900Z",
     "start_time": "2024-03-18T10:48:58.575767600Z"
    }
   },
   "outputs": [],
   "source": [
    "import os\n",
    "import tensorflow as tf\n",
    "from tensorflow import keras\n",
    "from tensorflow.keras import layers, optimizers, datasets\n",
    "from tensorflow.keras.layers import Dense, Dropout, Flatten\n",
    "from tensorflow.keras.layers import Conv2D, MaxPooling2D\n",
    "\n",
    "os.environ['TF_CPP_MIN_LOG_LEVEL'] = '2'  # or any {'0', '1', '2'}\n",
    "\n",
    "def cifar10_dataset():\n",
    "    (x, y), (x_test, y_test) = datasets.cifar10.load_data()\n",
    "    ds = tf.data.Dataset.from_tensor_slices((x, y))\n",
    "    ds = ds.map(prepare_mnist_features_and_labels)\n",
    "    ds = ds.take(20000).shuffle(20000).batch(100)\n",
    "    \n",
    "    test_ds = tf.data.Dataset.from_tensor_slices((x_test, y_test))\n",
    "    test_ds = test_ds.map(prepare_mnist_features_and_labels)\n",
    "    test_ds = test_ds.take(20000).batch(20000)\n",
    "    return ds, test_ds\n",
    "\n",
    "def prepare_mnist_features_and_labels(x, y):\n",
    "    x = tf.cast(x, tf.float32) / 255.0\n",
    "    y = tf.cast(y, tf.int64)\n",
    "    return x, y"
   ]
  },
  {
   "cell_type": "code",
   "execution_count": 3,
   "metadata": {
    "ExecuteTime": {
     "end_time": "2024-03-18T10:49:02.243091300Z",
     "start_time": "2024-03-18T10:49:02.230135400Z"
    }
   },
   "outputs": [],
   "source": []
  },
  {
   "cell_type": "markdown",
   "metadata": {},
   "source": [
    "## 建立模型"
   ]
  },
  {
   "cell_type": "code",
   "execution_count": 4,
   "metadata": {
    "ExecuteTime": {
     "end_time": "2024-03-18T10:49:02.289205400Z",
     "start_time": "2024-03-18T10:49:02.242094500Z"
    }
   },
   "outputs": [],
   "source": [
    "class myConvModel(keras.Model):\n",
    "    '''在这里实现alexNet模型'''\n",
    "    def __init__(self):\n",
    "        super(myConvModel, self).__init__()\n",
    "        self.l1_conv = Conv2D(filters=32, \n",
    "                              kernel_size=(5, 5), \n",
    "                              activation='relu', padding='same')\n",
    "        \n",
    "        self.l2_conv = Conv2D(filters=64, \n",
    "                              kernel_size=(5, 5), \n",
    "                              activation='relu',padding='same')\n",
    "        \n",
    "        self.pool = MaxPooling2D(pool_size=(2, 2), strides=2)\n",
    "        \n",
    "        self.flat = Flatten()\n",
    "        self.dense1 = layers.Dense(100, activation='tanh')\n",
    "        self.dense2 = layers.Dense(10)\n",
    "    @tf.function\n",
    "    def call(self, x):\n",
    "        h1 = self.l1_conv(x) \n",
    "        h1_pool = self.pool(h1) \n",
    "        h2 = self.l2_conv(h1_pool)\n",
    "        h2_pool = self.pool(h2) \n",
    "        flat_h = self.flat(h2_pool)\n",
    "        dense1 = self.dense1(flat_h)\n",
    "        logits = self.dense2(dense1)\n",
    "        probs = tf.nn.softmax(logits, axis=-1)\n",
    "        return probs\n",
    "    \n",
    "    @tf.function\n",
    "    def getL1_feature_map(self, x):\n",
    "        h1 = self.l1_conv(x) # [32, 28, 28, 32]\n",
    "        \n",
    "        return h1\n",
    "    \n",
    "    @tf.function\n",
    "    def getL2_feature_map(self, x):\n",
    "        h1 = self.l1_conv(x) # [32, 28, 28, 32]\n",
    "        h1_pool = self.pool(h1) # [32, 14, 14, 32]\n",
    "        h2 = self.l2_conv(h1_pool) #[32, 14, 14, 64]\n",
    "        return h2\n",
    "\n",
    "model = myConvModel()\n",
    "optimizer = optimizers.Adam(0.001)"
   ]
  },
  {
   "cell_type": "markdown",
   "metadata": {},
   "source": [
    "## 编译， fit以及evaluate"
   ]
  },
  {
   "cell_type": "code",
   "execution_count": 5,
   "metadata": {
    "ExecuteTime": {
     "end_time": "2024-03-18T10:50:06.851969100Z",
     "start_time": "2024-03-18T10:49:02.291199700Z"
    }
   },
   "outputs": [
    {
     "name": "stdout",
     "output_type": "stream",
     "text": [
      "Epoch 1/10\n",
      "200/200 [==============================] - 7s 31ms/step - loss: 1.7269 - accuracy: 0.3764\n",
      "Epoch 2/10\n",
      "200/200 [==============================] - 6s 30ms/step - loss: 1.3238 - accuracy: 0.5255\n",
      "Epoch 3/10\n",
      "200/200 [==============================] - 6s 30ms/step - loss: 1.1649 - accuracy: 0.5895\n",
      "Epoch 4/10\n",
      "200/200 [==============================] - 6s 27ms/step - loss: 1.0532 - accuracy: 0.6285\n",
      "Epoch 5/10\n",
      "200/200 [==============================] - 5s 26ms/step - loss: 0.9559 - accuracy: 0.6627\n",
      "Epoch 6/10\n",
      "200/200 [==============================] - 6s 29ms/step - loss: 0.8678 - accuracy: 0.6932\n",
      "Epoch 7/10\n",
      "200/200 [==============================] - 6s 31ms/step - loss: 0.7779 - accuracy: 0.7291\n",
      "Epoch 8/10\n",
      "200/200 [==============================] - 7s 33ms/step - loss: 0.6928 - accuracy: 0.7570\n",
      "Epoch 9/10\n",
      "200/200 [==============================] - 6s 31ms/step - loss: 0.6081 - accuracy: 0.7910\n",
      "Epoch 10/10\n",
      "200/200 [==============================] - 6s 31ms/step - loss: 0.5141 - accuracy: 0.8274\n",
      "1/1 [==============================] - 1s 1s/step - loss: 1.1020 - accuracy: 0.6471\n"
     ]
    },
    {
     "data": {
      "text/plain": "[1.1019775867462158, 0.6470999717712402]"
     },
     "execution_count": 5,
     "metadata": {},
     "output_type": "execute_result"
    }
   ],
   "source": [
    "model.compile(optimizer=optimizer,\n",
    "              loss='sparse_categorical_crossentropy',\n",
    "              metrics=['accuracy'])\n",
    "train_ds, test_ds = cifar10_dataset()\n",
    "model.fit(train_ds, epochs=10)\n",
    "model.evaluate(test_ds)"
   ]
  },
  {
   "cell_type": "code",
   "execution_count": null,
   "metadata": {
    "is_executing": true,
    "ExecuteTime": {
     "start_time": "2024-03-18T10:50:47.216356900Z"
    }
   },
   "outputs": [],
   "source": [
    "import numpy\n",
    "import pylab\n",
    "from PIL import Image\n",
    "import numpy as np\n",
    "\n",
    "ds, test_ds = cifar10_dataset()\n",
    "\n",
    "for i in test_ds:\n",
    "    test_batch = i[0][:1, :, :]\n",
    "    break\n",
    "img = Image.open(open('corgi.jpg', 'rb'))\n",
    "img = numpy.asarray(img, dtype='float32') / 256.\n",
    "# print(img.shape)\n",
    "img = np.expand_dims(img, axis=0)\n",
    "\n",
    "# img = test_batch\n",
    "img_out = model.getL2_feature_map(img)\n",
    "pylab.imshow(img[0, :, :, :])\n",
    "\n",
    "pylab.figure(figsize=(10,7))\n",
    "pylab.subplot(2, 2, 1); pylab.axis('off'); pylab.imshow(img_out[0, :, :, 0])\n",
    "pylab.subplot(2, 2, 2); pylab.axis('off'); pylab.imshow(img_out[0, :, :, 1])\n",
    "pylab.subplot(2, 2, 3); pylab.axis('off'); pylab.imshow(img_out[0, :, :, 2])\n",
    "pylab.subplot(2, 2, 4); pylab.axis('off'); pylab.imshow(img_out[0, :, :, 3])\n",
    "pylab.show()\n",
    "\n",
    "pylab.figure(figsize=(10,7))\n",
    "pylab.subplot(2, 2, 1); pylab.axis('off'); pylab.imshow(img_out[0, :, :, 4])\n",
    "pylab.subplot(2, 2, 2); pylab.axis('off'); pylab.imshow(img_out[0, :, :, 5])\n",
    "pylab.subplot(2, 2, 3); pylab.axis('off'); pylab.imshow(img_out[0, :, :, 6])\n",
    "pylab.subplot(2, 2, 4); pylab.axis('off'); pylab.imshow(img_out[0, :, :, 7])\n",
    "pylab.show()\n",
    "\n",
    "pylab.figure(figsize=(10,7))\n",
    "pylab.subplot(2, 2, 1); pylab.axis('off'); pylab.imshow(img_out[0, :, :, 8])\n",
    "pylab.subplot(2, 2, 2); pylab.axis('off'); pylab.imshow(img_out[0, :, :, 9])\n",
    "pylab.subplot(2, 2, 3); pylab.axis('off'); pylab.imshow(img_out[0, :, :, 10])\n",
    "pylab.subplot(2, 2, 4); pylab.axis('off'); pylab.imshow(img_out[0, :, :, 11])\n",
    "pylab.show()\n",
    "\n",
    "pylab.figure(figsize=(10,7))\n",
    "pylab.subplot(2, 2, 1); pylab.axis('off'); pylab.imshow(img_out[0, :, :, 12])\n",
    "pylab.subplot(2, 2, 2); pylab.axis('off'); pylab.imshow(img_out[0, :, :, 13])\n",
    "pylab.subplot(2, 2, 3); pylab.axis('off'); pylab.imshow(img_out[0, :, :, 14])\n",
    "pylab.subplot(2, 2, 4); pylab.axis('off'); pylab.imshow(img_out[0, :, :, 15])\n",
    "pylab.show()\n",
    "\n",
    "\n",
    "pylab.figure(figsize=(10,7))\n",
    "pylab.subplot(2, 2, 1); pylab.axis('off'); pylab.imshow(img_out[0, :, :, 16])\n",
    "pylab.subplot(2, 2, 2); pylab.axis('off'); pylab.imshow(img_out[0, :, :, 17])\n",
    "pylab.subplot(2, 2, 3); pylab.axis('off'); pylab.imshow(img_out[0, :, :, 18])\n",
    "pylab.subplot(2, 2, 4); pylab.axis('off'); pylab.imshow(img_out[0, :, :, 19])\n",
    "pylab.show()\n",
    "\n"
   ]
  },
  {
   "cell_type": "code",
   "execution_count": null,
   "metadata": {
    "is_executing": true
   },
   "outputs": [],
   "source": [
    "import numpy\n",
    "import pylab\n",
    "from PIL import Image\n",
    "import numpy as np\n",
    "rand_model = myConvModel()\n",
    "ds, test_ds = cifar10_dataset()\n",
    "\n",
    "for i in test_ds:\n",
    "    test_batch = i[0][:1, :, :]\n",
    "    break\n",
    "img = Image.open(open('corgi.jpg', 'rb'))\n",
    "img = numpy.asarray(img, dtype='float32') / 256.\n",
    "# print(img.shape)\n",
    "img = np.expand_dims(img, axis=0)\n",
    "\n",
    "# img = test_batch\n",
    "img_out = rand_model.getL1_feature_map(img)\n",
    "pylab.imshow(img[0, :, :, :])\n",
    "\n",
    "pylab.figure(figsize=(10,7))\n",
    "pylab.subplot(2, 2, 1); pylab.axis('off'); pylab.imshow(img_out[0, :, :, 0])\n",
    "pylab.subplot(2, 2, 2); pylab.axis('off'); pylab.imshow(img_out[0, :, :, 1])\n",
    "pylab.subplot(2, 2, 3); pylab.axis('off'); pylab.imshow(img_out[0, :, :, 2])\n",
    "pylab.subplot(2, 2, 4); pylab.axis('off'); pylab.imshow(img_out[0, :, :, 3])\n",
    "pylab.show()\n",
    "\n",
    "pylab.figure(figsize=(10,7))\n",
    "pylab.subplot(2, 2, 1); pylab.axis('off'); pylab.imshow(img_out[0, :, :, 4])\n",
    "pylab.subplot(2, 2, 2); pylab.axis('off'); pylab.imshow(img_out[0, :, :, 5])\n",
    "pylab.subplot(2, 2, 3); pylab.axis('off'); pylab.imshow(img_out[0, :, :, 6])\n",
    "pylab.subplot(2, 2, 4); pylab.axis('off'); pylab.imshow(img_out[0, :, :, 7])\n",
    "pylab.show()\n",
    "\n",
    "pylab.figure(figsize=(10,7))\n",
    "pylab.subplot(2, 2, 1); pylab.axis('off'); pylab.imshow(img_out[0, :, :, 8])\n",
    "pylab.subplot(2, 2, 2); pylab.axis('off'); pylab.imshow(img_out[0, :, :, 9])\n",
    "pylab.subplot(2, 2, 3); pylab.axis('off'); pylab.imshow(img_out[0, :, :, 10])\n",
    "pylab.subplot(2, 2, 4); pylab.axis('off'); pylab.imshow(img_out[0, :, :, 11])\n",
    "pylab.show()\n",
    "\n",
    "pylab.figure(figsize=(10,7))\n",
    "pylab.subplot(2, 2, 1); pylab.axis('off'); pylab.imshow(img_out[0, :, :, 12])\n",
    "pylab.subplot(2, 2, 2); pylab.axis('off'); pylab.imshow(img_out[0, :, :, 13])\n",
    "pylab.subplot(2, 2, 3); pylab.axis('off'); pylab.imshow(img_out[0, :, :, 14])\n",
    "pylab.subplot(2, 2, 4); pylab.axis('off'); pylab.imshow(img_out[0, :, :, 15])\n",
    "pylab.show()\n",
    "\n",
    "\n",
    "pylab.figure(figsize=(10,7))\n",
    "pylab.subplot(2, 2, 1); pylab.axis('off'); pylab.imshow(img_out[0, :, :, 16])\n",
    "pylab.subplot(2, 2, 2); pylab.axis('off'); pylab.imshow(img_out[0, :, :, 17])\n",
    "pylab.subplot(2, 2, 3); pylab.axis('off'); pylab.imshow(img_out[0, :, :, 18])\n",
    "pylab.subplot(2, 2, 4); pylab.axis('off'); pylab.imshow(img_out[0, :, :, 19])\n",
    "pylab.show()\n",
    "\n"
   ]
  },
  {
   "cell_type": "code",
   "execution_count": null,
   "metadata": {
    "is_executing": true
   },
   "outputs": [],
   "source": []
  }
 ],
 "metadata": {
  "kernelspec": {
   "display_name": "Python 3",
   "language": "python",
   "name": "python3"
  },
  "language_info": {
   "codemirror_mode": {
    "name": "ipython",
    "version": 3
   },
   "file_extension": ".py",
   "mimetype": "text/x-python",
   "name": "python",
   "nbconvert_exporter": "python",
   "pygments_lexer": "ipython3",
   "version": "3.7.0"
  }
 },
 "nbformat": 4,
 "nbformat_minor": 2
}
