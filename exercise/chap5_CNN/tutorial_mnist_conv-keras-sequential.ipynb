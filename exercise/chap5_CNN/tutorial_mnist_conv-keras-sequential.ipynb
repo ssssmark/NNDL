{
 "cells": [
  {
   "cell_type": "markdown",
   "metadata": {},
   "source": [
    "## 准备数据"
   ]
  },
  {
   "cell_type": "code",
   "execution_count": 1,
   "metadata": {
    "ExecuteTime": {
     "end_time": "2024-03-18T11:16:15.671815600Z",
     "start_time": "2024-03-18T11:16:07.607349200Z"
    }
   },
   "outputs": [],
   "source": [
    "import os\n",
    "import tensorflow as tf\n",
    "from tensorflow import keras\n",
    "from tensorflow.keras import layers, optimizers, datasets\n",
    "from tensorflow.keras.layers import Dense, Dropout, Flatten\n",
    "from tensorflow.keras.layers import Conv2D, MaxPooling2D\n",
    "\n",
    "os.environ['TF_CPP_MIN_LOG_LEVEL'] = '2'  # or any {'0', '1', '2'}\n",
    "\n",
    "def mnist_dataset():\n",
    "    (x, y), (x_test, y_test) = datasets.mnist.load_data()\n",
    "    x = x.reshape(x.shape[0], 28, 28,1)\n",
    "    x_test = x_test.reshape(x_test.shape[0], 28, 28,1)\n",
    "    ds = tf.data.Dataset.from_tensor_slices((x, y))\n",
    "    ds = ds.map(prepare_mnist_features_and_labels)\n",
    "    ds = ds.take(20000).shuffle(20000).batch(100)\n",
    "    \n",
    "    test_ds = tf.data.Dataset.from_tensor_slices((x_test, y_test))\n",
    "    test_ds = test_ds.map(prepare_mnist_features_and_labels)\n",
    "    test_ds = test_ds.take(20000).shuffle(20000).batch(20000)\n",
    "    return ds, test_ds\n",
    "\n",
    "def prepare_mnist_features_and_labels(x, y):\n",
    "    x = tf.cast(x, tf.float32) / 255.0\n",
    "    y = tf.cast(y, tf.int64)\n",
    "    return x, y"
   ]
  },
  {
   "cell_type": "code",
   "execution_count": 2,
   "metadata": {
    "ExecuteTime": {
     "end_time": "2024-03-18T11:16:15.674808500Z",
     "start_time": "2024-03-18T11:16:15.660823600Z"
    }
   },
   "outputs": [
    {
     "data": {
      "text/plain": "3136"
     },
     "execution_count": 2,
     "metadata": {},
     "output_type": "execute_result"
    }
   ],
   "source": [
    "7*7*64"
   ]
  },
  {
   "cell_type": "markdown",
   "metadata": {},
   "source": [
    "## 建立模型"
   ]
  },
  {
   "cell_type": "code",
   "execution_count": 3,
   "metadata": {
    "ExecuteTime": {
     "end_time": "2024-03-18T11:16:15.676858600Z",
     "start_time": "2024-03-18T11:16:15.660823600Z"
    }
   },
   "outputs": [],
   "source": [
    "model = keras.Sequential([\n",
    "    Conv2D(32, (5, 5), activation='relu', padding='same'),\n",
    "    MaxPooling2D(pool_size=2, strides=2),\n",
    "    Conv2D(64, (5, 5), activation='relu', padding='same'),\n",
    "    MaxPooling2D(pool_size=2, strides=2),\n",
    "    Flatten(), #N*7*7*64 =>N*3136\n",
    "    layers.Dense(128, activation='tanh'), #N*128\n",
    "    layers.Dense(10, activation='softmax')]) #N*10\n",
    "optimizer = optimizers.Adam(0.0001)"
   ]
  },
  {
   "cell_type": "markdown",
   "metadata": {},
   "source": [
    "## 编译， fit以及evaluate"
   ]
  },
  {
   "cell_type": "code",
   "execution_count": 4,
   "metadata": {
    "ExecuteTime": {
     "end_time": "2024-03-18T11:16:54.457022600Z",
     "start_time": "2024-03-18T11:16:15.660823600Z"
    }
   },
   "outputs": [
    {
     "name": "stdout",
     "output_type": "stream",
     "text": [
      "Epoch 1/5\n",
      "200/200 [==============================] - 11s 46ms/step - loss: 0.8848 - accuracy: 0.7868\n",
      "Epoch 2/5\n",
      "200/200 [==============================] - 9s 40ms/step - loss: 0.2518 - accuracy: 0.9306\n",
      "Epoch 3/5\n",
      "200/200 [==============================] - 8s 37ms/step - loss: 0.1728 - accuracy: 0.9503\n",
      "Epoch 4/5\n",
      "200/200 [==============================] - 5s 23ms/step - loss: 0.1308 - accuracy: 0.9628\n",
      "Epoch 5/5\n",
      "200/200 [==============================] - 5s 24ms/step - loss: 0.1049 - accuracy: 0.9705\n",
      "1/1 [==============================] - 1s 904ms/step - loss: 0.0923 - accuracy: 0.9731\n"
     ]
    },
    {
     "data": {
      "text/plain": "[0.09232586622238159, 0.9731000065803528]"
     },
     "execution_count": 4,
     "metadata": {},
     "output_type": "execute_result"
    }
   ],
   "source": [
    "model.compile(optimizer=optimizer,\n",
    "              loss='sparse_categorical_crossentropy',\n",
    "              metrics=['accuracy'])\n",
    "train_ds, test_ds = mnist_dataset()\n",
    "model.fit(train_ds, epochs=5)\n",
    "model.evaluate(test_ds)"
   ]
  },
  {
   "cell_type": "code",
   "execution_count": 4,
   "metadata": {
    "ExecuteTime": {
     "end_time": "2024-03-18T11:16:54.478997700Z",
     "start_time": "2024-03-18T11:16:54.459014100Z"
    }
   },
   "outputs": [],
   "source": []
  },
  {
   "cell_type": "code",
   "execution_count": 4,
   "metadata": {
    "ExecuteTime": {
     "end_time": "2024-03-18T11:16:54.487993500Z",
     "start_time": "2024-03-18T11:16:54.473992Z"
    }
   },
   "outputs": [],
   "source": []
  }
 ],
 "metadata": {
  "kernelspec": {
   "display_name": "Python 3",
   "language": "python",
   "name": "python3"
  },
  "language_info": {
   "codemirror_mode": {
    "name": "ipython",
    "version": 3
   },
   "file_extension": ".py",
   "mimetype": "text/x-python",
   "name": "python",
   "nbconvert_exporter": "python",
   "pygments_lexer": "ipython3",
   "version": "3.7.0"
  }
 },
 "nbformat": 4,
 "nbformat_minor": 2
}
